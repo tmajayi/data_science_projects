{
 "cells": [
  {
   "cell_type": "code",
   "execution_count": 1,
   "metadata": {},
   "outputs": [],
   "source": [
    "import numpy as np\n",
    "import pandas as pd\n",
    "\n",
    "fake_news = pd.read_csv('data\\\\Fake.csv')\n",
    "real_news = pd.read_csv('data\\\\True.csv')"
   ]
  },
  {
   "cell_type": "markdown",
   "metadata": {},
   "source": [
    "Create labels for real and fake news and merge them"
   ]
  },
  {
   "cell_type": "code",
   "execution_count": 2,
   "metadata": {},
   "outputs": [
    {
     "data": {
      "text/html": [
       "<div>\n",
       "<style scoped>\n",
       "    .dataframe tbody tr th:only-of-type {\n",
       "        vertical-align: middle;\n",
       "    }\n",
       "\n",
       "    .dataframe tbody tr th {\n",
       "        vertical-align: top;\n",
       "    }\n",
       "\n",
       "    .dataframe thead th {\n",
       "        text-align: right;\n",
       "    }\n",
       "</style>\n",
       "<table border=\"1\" class=\"dataframe\">\n",
       "  <thead>\n",
       "    <tr style=\"text-align: right;\">\n",
       "      <th></th>\n",
       "      <th>title</th>\n",
       "      <th>text</th>\n",
       "      <th>subject</th>\n",
       "      <th>label</th>\n",
       "    </tr>\n",
       "  </thead>\n",
       "  <tbody>\n",
       "    <tr>\n",
       "      <th>0</th>\n",
       "      <td>Donald Trump Sends Out Embarrassing New Year’...</td>\n",
       "      <td>Donald Trump just couldn t wish all Americans ...</td>\n",
       "      <td>News</td>\n",
       "      <td>0.0</td>\n",
       "    </tr>\n",
       "    <tr>\n",
       "      <th>1</th>\n",
       "      <td>Drunk Bragging Trump Staffer Started Russian ...</td>\n",
       "      <td>House Intelligence Committee Chairman Devin Nu...</td>\n",
       "      <td>News</td>\n",
       "      <td>0.0</td>\n",
       "    </tr>\n",
       "    <tr>\n",
       "      <th>2</th>\n",
       "      <td>Sheriff David Clarke Becomes An Internet Joke...</td>\n",
       "      <td>On Friday, it was revealed that former Milwauk...</td>\n",
       "      <td>News</td>\n",
       "      <td>0.0</td>\n",
       "    </tr>\n",
       "    <tr>\n",
       "      <th>3</th>\n",
       "      <td>Trump Is So Obsessed He Even Has Obama’s Name...</td>\n",
       "      <td>On Christmas day, Donald Trump announced that ...</td>\n",
       "      <td>News</td>\n",
       "      <td>0.0</td>\n",
       "    </tr>\n",
       "    <tr>\n",
       "      <th>4</th>\n",
       "      <td>Pope Francis Just Called Out Donald Trump Dur...</td>\n",
       "      <td>Pope Francis used his annual Christmas Day mes...</td>\n",
       "      <td>News</td>\n",
       "      <td>0.0</td>\n",
       "    </tr>\n",
       "    <tr>\n",
       "      <th>...</th>\n",
       "      <td>...</td>\n",
       "      <td>...</td>\n",
       "      <td>...</td>\n",
       "      <td>...</td>\n",
       "    </tr>\n",
       "    <tr>\n",
       "      <th>44893</th>\n",
       "      <td>'Fully committed' NATO backs new U.S. approach...</td>\n",
       "      <td>BRUSSELS (Reuters) - NATO allies on Tuesday we...</td>\n",
       "      <td>worldnews</td>\n",
       "      <td>1.0</td>\n",
       "    </tr>\n",
       "    <tr>\n",
       "      <th>44894</th>\n",
       "      <td>LexisNexis withdrew two products from Chinese ...</td>\n",
       "      <td>LONDON (Reuters) - LexisNexis, a provider of l...</td>\n",
       "      <td>worldnews</td>\n",
       "      <td>1.0</td>\n",
       "    </tr>\n",
       "    <tr>\n",
       "      <th>44895</th>\n",
       "      <td>Minsk cultural hub becomes haven from authorities</td>\n",
       "      <td>MINSK (Reuters) - In the shadow of disused Sov...</td>\n",
       "      <td>worldnews</td>\n",
       "      <td>1.0</td>\n",
       "    </tr>\n",
       "    <tr>\n",
       "      <th>44896</th>\n",
       "      <td>Vatican upbeat on possibility of Pope Francis ...</td>\n",
       "      <td>MOSCOW (Reuters) - Vatican Secretary of State ...</td>\n",
       "      <td>worldnews</td>\n",
       "      <td>1.0</td>\n",
       "    </tr>\n",
       "    <tr>\n",
       "      <th>44897</th>\n",
       "      <td>Indonesia to buy $1.14 billion worth of Russia...</td>\n",
       "      <td>JAKARTA (Reuters) - Indonesia will buy 11 Sukh...</td>\n",
       "      <td>worldnews</td>\n",
       "      <td>1.0</td>\n",
       "    </tr>\n",
       "  </tbody>\n",
       "</table>\n",
       "<p>44898 rows × 4 columns</p>\n",
       "</div>"
      ],
      "text/plain": [
       "                                                   title  \\\n",
       "0       Donald Trump Sends Out Embarrassing New Year’...   \n",
       "1       Drunk Bragging Trump Staffer Started Russian ...   \n",
       "2       Sheriff David Clarke Becomes An Internet Joke...   \n",
       "3       Trump Is So Obsessed He Even Has Obama’s Name...   \n",
       "4       Pope Francis Just Called Out Donald Trump Dur...   \n",
       "...                                                  ...   \n",
       "44893  'Fully committed' NATO backs new U.S. approach...   \n",
       "44894  LexisNexis withdrew two products from Chinese ...   \n",
       "44895  Minsk cultural hub becomes haven from authorities   \n",
       "44896  Vatican upbeat on possibility of Pope Francis ...   \n",
       "44897  Indonesia to buy $1.14 billion worth of Russia...   \n",
       "\n",
       "                                                    text    subject  label  \n",
       "0      Donald Trump just couldn t wish all Americans ...       News    0.0  \n",
       "1      House Intelligence Committee Chairman Devin Nu...       News    0.0  \n",
       "2      On Friday, it was revealed that former Milwauk...       News    0.0  \n",
       "3      On Christmas day, Donald Trump announced that ...       News    0.0  \n",
       "4      Pope Francis used his annual Christmas Day mes...       News    0.0  \n",
       "...                                                  ...        ...    ...  \n",
       "44893  BRUSSELS (Reuters) - NATO allies on Tuesday we...  worldnews    1.0  \n",
       "44894  LONDON (Reuters) - LexisNexis, a provider of l...  worldnews    1.0  \n",
       "44895  MINSK (Reuters) - In the shadow of disused Sov...  worldnews    1.0  \n",
       "44896  MOSCOW (Reuters) - Vatican Secretary of State ...  worldnews    1.0  \n",
       "44897  JAKARTA (Reuters) - Indonesia will buy 11 Sukh...  worldnews    1.0  \n",
       "\n",
       "[44898 rows x 4 columns]"
      ]
     },
     "execution_count": 2,
     "metadata": {},
     "output_type": "execute_result"
    }
   ],
   "source": [
    "fake_news['label'] = np.zeros(fake_news.shape[0])\n",
    "fake_news = fake_news.drop(['date'],axis=1)\n",
    "real_news['label'] = np.ones(real_news.shape[0])\n",
    "real_news = real_news.drop(['date'],axis=1)\n",
    "all_news = fake_news.append(real_news).reset_index(drop=True)\n",
    "all_news"
   ]
  },
  {
   "cell_type": "markdown",
   "metadata": {},
   "source": [
    "Let's shuffle before going further"
   ]
  },
  {
   "cell_type": "code",
   "execution_count": 3,
   "metadata": {},
   "outputs": [
    {
     "data": {
      "text/html": [
       "<div>\n",
       "<style scoped>\n",
       "    .dataframe tbody tr th:only-of-type {\n",
       "        vertical-align: middle;\n",
       "    }\n",
       "\n",
       "    .dataframe tbody tr th {\n",
       "        vertical-align: top;\n",
       "    }\n",
       "\n",
       "    .dataframe thead th {\n",
       "        text-align: right;\n",
       "    }\n",
       "</style>\n",
       "<table border=\"1\" class=\"dataframe\">\n",
       "  <thead>\n",
       "    <tr style=\"text-align: right;\">\n",
       "      <th></th>\n",
       "      <th>title</th>\n",
       "      <th>text</th>\n",
       "      <th>subject</th>\n",
       "      <th>label</th>\n",
       "    </tr>\n",
       "  </thead>\n",
       "  <tbody>\n",
       "    <tr>\n",
       "      <th>0</th>\n",
       "      <td>Having nuclear weapons 'matter of life and dea...</td>\n",
       "      <td>MOSCOW (Reuters) - Pyongyang does not plan to ...</td>\n",
       "      <td>worldnews</td>\n",
       "      <td>1.0</td>\n",
       "    </tr>\n",
       "    <tr>\n",
       "      <th>1</th>\n",
       "      <td>WATCH: Trump’s Insult To The Troops He Didn’t...</td>\n",
       "      <td>Donald Trump has once again used images of non...</td>\n",
       "      <td>News</td>\n",
       "      <td>0.0</td>\n",
       "    </tr>\n",
       "    <tr>\n",
       "      <th>2</th>\n",
       "      <td>PROACTIVE PRESIDENT TRUMP Just Took Huge Step ...</td>\n",
       "      <td>1[1pro-]:  relating to, caused by, or being in...</td>\n",
       "      <td>left-news</td>\n",
       "      <td>0.0</td>\n",
       "    </tr>\n",
       "    <tr>\n",
       "      <th>3</th>\n",
       "      <td>Obama to announce Supreme Court nominee</td>\n",
       "      <td>WASHINGTON (Reuters) - U.S. President Barack O...</td>\n",
       "      <td>politicsNews</td>\n",
       "      <td>1.0</td>\n",
       "    </tr>\n",
       "    <tr>\n",
       "      <th>4</th>\n",
       "      <td>Leave It To Seth Meyers To Absolutely PUMMEL ...</td>\n",
       "      <td>It s gotten to the point that if you re still ...</td>\n",
       "      <td>News</td>\n",
       "      <td>0.0</td>\n",
       "    </tr>\n",
       "    <tr>\n",
       "      <th>...</th>\n",
       "      <td>...</td>\n",
       "      <td>...</td>\n",
       "      <td>...</td>\n",
       "      <td>...</td>\n",
       "    </tr>\n",
       "    <tr>\n",
       "      <th>44893</th>\n",
       "      <td>House Speaker Ryan mulls retirement after 2018...</td>\n",
       "      <td>WASHINGTON (Reuters) - Republican House Speake...</td>\n",
       "      <td>politicsNews</td>\n",
       "      <td>1.0</td>\n",
       "    </tr>\n",
       "    <tr>\n",
       "      <th>44894</th>\n",
       "      <td>TUCKER CARLSON: Why Brutal MS-13 Gang (Obama’s...</td>\n",
       "      <td>The notoriously violent MS-13 street gang, kno...</td>\n",
       "      <td>left-news</td>\n",
       "      <td>0.0</td>\n",
       "    </tr>\n",
       "    <tr>\n",
       "      <th>44895</th>\n",
       "      <td>Iraqi PM orders security services 'to protect ...</td>\n",
       "      <td>BAGHDAD (Reuters) - Iraqi Prime Minister Haide...</td>\n",
       "      <td>worldnews</td>\n",
       "      <td>1.0</td>\n",
       "    </tr>\n",
       "    <tr>\n",
       "      <th>44896</th>\n",
       "      <td>Brazil captures most wanted arms trafficker in...</td>\n",
       "      <td>RIO DE JANEIRO (Reuters) - Brazil s most wante...</td>\n",
       "      <td>worldnews</td>\n",
       "      <td>1.0</td>\n",
       "    </tr>\n",
       "    <tr>\n",
       "      <th>44897</th>\n",
       "      <td>U.N. chief says no communication with North Ko...</td>\n",
       "      <td>UNITED NATIONS (Reuters) - United Nations Secr...</td>\n",
       "      <td>politicsNews</td>\n",
       "      <td>1.0</td>\n",
       "    </tr>\n",
       "  </tbody>\n",
       "</table>\n",
       "<p>44898 rows × 4 columns</p>\n",
       "</div>"
      ],
      "text/plain": [
       "                                                   title  \\\n",
       "0      Having nuclear weapons 'matter of life and dea...   \n",
       "1       WATCH: Trump’s Insult To The Troops He Didn’t...   \n",
       "2      PROACTIVE PRESIDENT TRUMP Just Took Huge Step ...   \n",
       "3                Obama to announce Supreme Court nominee   \n",
       "4       Leave It To Seth Meyers To Absolutely PUMMEL ...   \n",
       "...                                                  ...   \n",
       "44893  House Speaker Ryan mulls retirement after 2018...   \n",
       "44894  TUCKER CARLSON: Why Brutal MS-13 Gang (Obama’s...   \n",
       "44895  Iraqi PM orders security services 'to protect ...   \n",
       "44896  Brazil captures most wanted arms trafficker in...   \n",
       "44897  U.N. chief says no communication with North Ko...   \n",
       "\n",
       "                                                    text       subject  label  \n",
       "0      MOSCOW (Reuters) - Pyongyang does not plan to ...     worldnews    1.0  \n",
       "1      Donald Trump has once again used images of non...          News    0.0  \n",
       "2      1[1pro-]:  relating to, caused by, or being in...     left-news    0.0  \n",
       "3      WASHINGTON (Reuters) - U.S. President Barack O...  politicsNews    1.0  \n",
       "4      It s gotten to the point that if you re still ...          News    0.0  \n",
       "...                                                  ...           ...    ...  \n",
       "44893  WASHINGTON (Reuters) - Republican House Speake...  politicsNews    1.0  \n",
       "44894  The notoriously violent MS-13 street gang, kno...     left-news    0.0  \n",
       "44895  BAGHDAD (Reuters) - Iraqi Prime Minister Haide...     worldnews    1.0  \n",
       "44896  RIO DE JANEIRO (Reuters) - Brazil s most wante...     worldnews    1.0  \n",
       "44897  UNITED NATIONS (Reuters) - United Nations Secr...  politicsNews    1.0  \n",
       "\n",
       "[44898 rows x 4 columns]"
      ]
     },
     "execution_count": 3,
     "metadata": {},
     "output_type": "execute_result"
    }
   ],
   "source": [
    "from sklearn.utils import shuffle\n",
    "\n",
    "all_news = shuffle(all_news).reset_index(drop=True)\n",
    "all_news"
   ]
  },
  {
   "cell_type": "markdown",
   "metadata": {},
   "source": [
    "Check for nulls..."
   ]
  },
  {
   "cell_type": "code",
   "execution_count": 4,
   "metadata": {},
   "outputs": [
    {
     "data": {
      "text/plain": [
       "title      0\n",
       "text       0\n",
       "subject    0\n",
       "label      0\n",
       "dtype: int64"
      ]
     },
     "execution_count": 4,
     "metadata": {},
     "output_type": "execute_result"
    }
   ],
   "source": [
    "all_news.isnull().sum()"
   ]
  },
  {
   "cell_type": "code",
   "execution_count": 5,
   "metadata": {},
   "outputs": [
    {
     "data": {
      "text/plain": [
       "(44898, 121987)"
      ]
     },
     "execution_count": 5,
     "metadata": {},
     "output_type": "execute_result"
    }
   ],
   "source": [
    "from sklearn.feature_extraction.text import TfidfVectorizer\n",
    "vectorizer = TfidfVectorizer(max_df=0.7, min_df = 1)\n",
    "feature_1 = vectorizer.fit_transform(all_news['text'])\n",
    "feature_1.shape"
   ]
  },
  {
   "cell_type": "markdown",
   "metadata": {},
   "source": [
    "### Modelling"
   ]
  },
  {
   "cell_type": "code",
   "execution_count": 135,
   "metadata": {},
   "outputs": [
    {
     "data": {
      "text/plain": [
       "<44898x121987 sparse matrix of type '<class 'numpy.float64'>'\n",
       "\twith 8834253 stored elements in Compressed Sparse Row format>"
      ]
     },
     "execution_count": 135,
     "metadata": {},
     "output_type": "execute_result"
    }
   ],
   "source": [
    "X = feature_1.sorted_indices()\n",
    "X"
   ]
  },
  {
   "cell_type": "code",
   "execution_count": 136,
   "metadata": {},
   "outputs": [],
   "source": [
    "n_train = int(X.shape[0]*0.7)\n",
    "n_val = int(X.shape[0]*0.85)\n",
    "y = all_news['label'].values\n",
    "X_train = X[:n_train]\n",
    "y_train = y[:n_train]\n",
    "X_val = X[n_train:n_val]\n",
    "y_val = y[n_train:n_val]\n",
    "X_test = X[n_val:]\n",
    "y_test = y[n_val:]"
   ]
  },
  {
   "cell_type": "code",
   "execution_count": 8,
   "metadata": {},
   "outputs": [],
   "source": [
    "from tensorflow.keras.models import Sequential\n",
    "from tensorflow.keras.layers import Dense, Dropout\n",
    "from tensorflow.keras.optimizers import Adam\n",
    "\n",
    "def create_dnn(X_train,y_train,X_val,y_val):\n",
    "    model = Sequential()\n",
    "    model.add(Dense(100, input_shape=(X_train.shape[1],), activation='relu')) \n",
    "    model.add(Dense(100, activation = 'relu'))\n",
    "    model.add(Dropout(0.4))\n",
    "    model.add(Dense(1, activation='sigmoid'))\n",
    "    model.compile(loss='binary_crossentropy', optimizer='adam', metrics=['accuracy'])\n",
    "    model.fit(X_train,y_train, \n",
    "          batch_size=500, \n",
    "          validation_data= (X_val, y_val),\n",
    "          epochs=5, verbose=1)\n",
    "    return model"
   ]
  },
  {
   "cell_type": "code",
   "execution_count": 9,
   "metadata": {},
   "outputs": [
    {
     "name": "stdout",
     "output_type": "stream",
     "text": [
      "Epoch 1/5\n",
      "63/63 [==============================] - 6s 102ms/step - loss: 0.3173 - accuracy: 0.9313 - val_loss: 0.0844 - val_accuracy: 0.9765\n",
      "Epoch 2/5\n",
      "63/63 [==============================] - 6s 92ms/step - loss: 0.0371 - accuracy: 0.9914 - val_loss: 0.0474 - val_accuracy: 0.9849\n",
      "Epoch 3/5\n",
      "63/63 [==============================] - 6s 99ms/step - loss: 0.0089 - accuracy: 0.9992 - val_loss: 0.0420 - val_accuracy: 0.9865\n",
      "Epoch 4/5\n",
      "63/63 [==============================] - 6s 96ms/step - loss: 0.0030 - accuracy: 0.9999 - val_loss: 0.0422 - val_accuracy: 0.9869\n",
      "Epoch 5/5\n",
      "63/63 [==============================] - 6s 89ms/step - loss: 0.0015 - accuracy: 1.0000 - val_loss: 0.0439 - val_accuracy: 0.9863\n"
     ]
    }
   ],
   "source": [
    "model = create_dnn(X_train,y_train,X_val,y_val)"
   ]
  },
  {
   "cell_type": "code",
   "execution_count": 19,
   "metadata": {},
   "outputs": [
    {
     "name": "stdout",
     "output_type": "stream",
     "text": [
      "model predicted 96.32 percent correctly\n"
     ]
    }
   ],
   "source": [
    "prediction = np.round(model.predict(X_test),1)\n",
    "prediction = prediction.ravel()\n",
    "correct = sum(prediction == y_test)\n",
    "print('model predicted %2.2f percent correctly'%(correct/len(y_test)*100))"
   ]
  },
  {
   "cell_type": "markdown",
   "metadata": {},
   "source": [
    "### Unsupervised learning\n",
    "Lets pretend we don't know the label, what news is fake and what is real. We will now build a classifier based on claustering. "
   ]
  },
  {
   "cell_type": "code",
   "execution_count": 127,
   "metadata": {},
   "outputs": [],
   "source": [
    "from sklearn.cluster import KMeans\n",
    "import re\n",
    "from gensim.models import Word2Vec\n",
    "\n",
    "\n",
    "#function to remove special charaters, stops and converts sentenses to arrays of strings\n",
    "def clean(text):\n",
    "    return re.sub(\"[^A-Za-z']+\", ' ', text).lower().split()\n",
    "\n",
    "# word emdedding: convert sentence arrays to vectors of length 100 using a gensim Word2Vec model\n",
    "def vectorizer(text):\n",
    "    try:\n",
    "        vectors = model[text]\n",
    "        vectors = np.average(vectors, axis=0)\n",
    "    except:  # if senentence array is empty return zeros\n",
    "        vectors = np.zeros(100)\n",
    "    return list(vectors)"
   ]
  },
  {
   "cell_type": "code",
   "execution_count": 117,
   "metadata": {},
   "outputs": [],
   "source": [
    "texts = all_news['text'].values\n",
    "cleaned = list(map(clean, texts))\n",
    "model = Word2Vec(cleaned, min_count=1)   # build a vector model with the tokenized string data"
   ]
  },
  {
   "cell_type": "code",
   "execution_count": 139,
   "metadata": {},
   "outputs": [
    {
     "name": "stderr",
     "output_type": "stream",
     "text": [
      "C:\\Users\\miket\\Anaconda3\\lib\\site-packages\\ipykernel_launcher.py:11: DeprecationWarning: Call to deprecated `__getitem__` (Method will be removed in 4.0.0, use self.wv.__getitem__() instead).\n",
      "  # This is added back by InteractiveShellApp.init_path()\n"
     ]
    }
   ],
   "source": [
    "X_list = []\n",
    "for row in cleaned:\n",
    "    X_list.append(vectorizer(row))"
   ]
  },
  {
   "cell_type": "code",
   "execution_count": 143,
   "metadata": {},
   "outputs": [],
   "source": [
    "X_array = np.array(X_list)\n",
    "split = int(X_array.shape[0]*0.7)\n",
    "X_train = X_array[:split]\n",
    "X_test = X_array[split:]\n",
    "y = all_news['label'].values\n",
    "y_train = y[:split]\n",
    "y_test = y[split:]"
   ]
  },
  {
   "cell_type": "code",
   "execution_count": 144,
   "metadata": {},
   "outputs": [],
   "source": [
    "kmeans_model = KMeans(n_clusters=2,max_iter=300).fit(X_train)"
   ]
  },
  {
   "cell_type": "code",
   "execution_count": 147,
   "metadata": {},
   "outputs": [
    {
     "name": "stdout",
     "output_type": "stream",
     "text": [
      "model predicted 86.33 percent correctly\n"
     ]
    }
   ],
   "source": [
    "prediction = np.round(kmeans_model.predict(X_test),1)\n",
    "prediction = prediction.ravel()\n",
    "correct = sum(prediction == y_test)\n",
    "print('model predicted %2.2f percent correctly'%(correct/len(y_test)*100))"
   ]
  },
  {
   "cell_type": "markdown",
   "metadata": {},
   "source": [
    "__Not bad!__"
   ]
  },
  {
   "cell_type": "code",
   "execution_count": null,
   "metadata": {},
   "outputs": [],
   "source": []
  }
 ],
 "metadata": {
  "kernelspec": {
   "display_name": "Python 3",
   "language": "python",
   "name": "python3"
  },
  "language_info": {
   "codemirror_mode": {
    "name": "ipython",
    "version": 3
   },
   "file_extension": ".py",
   "mimetype": "text/x-python",
   "name": "python",
   "nbconvert_exporter": "python",
   "pygments_lexer": "ipython3",
   "version": "3.6.5"
  }
 },
 "nbformat": 4,
 "nbformat_minor": 4
}
