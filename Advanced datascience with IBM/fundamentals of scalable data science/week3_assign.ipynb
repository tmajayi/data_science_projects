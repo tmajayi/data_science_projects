{
 "cells": [
  {
   "cell_type": "code",
   "execution_count": 2,
   "metadata": {},
   "outputs": [],
   "source": [
    "from pyspark import SparkContext, SparkConf\n",
    "from pyspark.sql import SparkSession\n",
    "\n",
    "sc = SparkContext.getOrCreate(SparkConf().setMaster(\"local[*]\"))\n",
    "spark = SparkSession.builder.getOrCreate()"
   ]
  },
  {
   "cell_type": "code",
   "execution_count": 3,
   "metadata": {},
   "outputs": [],
   "source": [
    "df = spark.read.parquet('washing.parquet')"
   ]
  },
  {
   "cell_type": "code",
   "execution_count": 4,
   "metadata": {},
   "outputs": [
    {
     "name": "stdout",
     "output_type": "stream",
     "text": [
      "min temp =  80 \n",
      "max temp = 100 \n",
      "mean temp = 90.04\n",
      "stdev = 6.10\n",
      "skewness = 0.010 \n",
      "kurtosis = 1.776 \n",
      "corr_temp_hard = 0.018\n"
     ]
    }
   ],
   "source": [
    "### using SQL ###\n",
    "df.createOrReplaceTempView('washing')\n",
    "min_temp = spark.sql(\"select min(temperature) as mntp from washing\").first().mntp\n",
    "max_temp = spark.sql(\"select max(temperature) as mxtp from washing\").first().mxtp\n",
    "temp_mean = spark.sql(\"select avg(temperature) as avtp from washing\").first().avtp\n",
    "std_temp = spark.sql(\"select stddev_pop(temperature) as stdtp from washing\").first().stdtp\n",
    "skew_temp = spark.sql(\"\"\"select \n",
    "            1/count(temperature)*sum(pow(temperature-%s,3))/pow(%s,3) \n",
    "            as skwtp from washing\"\"\"%(temp_mean,std_temp)).first().skwtp\n",
    "kurt_temp = spark.sql(\"\"\"select \n",
    "            1/count(temperature)*sum(pow(temperature-%s,4))/pow(%s,4) \n",
    "            as kurttp from washing\"\"\"%(temp_mean,std_temp)).first().kurttp\n",
    "corr_temp_hard = spark.sql(\"select corr(temperature,hardness) as corrtp from washing\").first().corrtp\n",
    "print('min temp = %3i \\nmax temp = %3i \\nmean temp = %3.2f\\nstdev = %2.2f'%(min_temp,max_temp,temp_mean,std_temp))\n",
    "print('skewness = %1.3f \\nkurtosis = %1.3f \\ncorr_temp_hard = %1.3f'%(skew_temp,kurt_temp,corr_temp_hard))"
   ]
  },
  {
   "cell_type": "code",
   "execution_count": 32,
   "metadata": {},
   "outputs": [
    {
     "data": {
      "text/plain": [
       "[Row(temperature=100),\n",
       " Row(temperature=None),\n",
       " Row(temperature=None),\n",
       " Row(temperature=86),\n",
       " Row(temperature=None)]"
      ]
     },
     "execution_count": 32,
     "metadata": {},
     "output_type": "execute_result"
    }
   ],
   "source": [
    "### using rdd  ###\n",
    "temp = df.select('temperature')\n",
    "temp.take(5)"
   ]
  },
  {
   "cell_type": "code",
   "execution_count": 33,
   "metadata": {},
   "outputs": [
    {
     "data": {
      "text/plain": [
       "[100, 86, 84, 84, 96]"
      ]
     },
     "execution_count": 33,
     "metadata": {},
     "output_type": "execute_result"
    }
   ],
   "source": [
    "# drop None and position tags\n",
    "tmp = temp.na.drop().rdd.map(lambda row: row.temperature)\n",
    "tmp.take(5)"
   ]
  },
  {
   "cell_type": "code",
   "execution_count": 34,
   "metadata": {},
   "outputs": [
    {
     "name": "stdout",
     "output_type": "stream",
     "text": [
      "min temp =  80 \n",
      "max temp = 100 \n",
      "mean temp = 90.04\n",
      "stdev = 6.10\n"
     ]
    }
   ],
   "source": [
    "# analyze data\n",
    "mean = tmp.mean()\n",
    "mn = tmp.min()\n",
    "mx = tmp.max()\n",
    "std = tmp.stdev()\n",
    "print('min temp = %3i \\nmax temp = %3i \\nmean temp = %3.2f\\nstdev = %2.2f'%(mn,mx,mean,std))"
   ]
  },
  {
   "cell_type": "code",
   "execution_count": 35,
   "metadata": {},
   "outputs": [
    {
     "data": {
      "text/plain": [
       "(count: 1342, mean: 90.03800298062592, stdev: 6.098487624200338, max: 100.0, min: 80.0)"
      ]
     },
     "execution_count": 35,
     "metadata": {},
     "output_type": "execute_result"
    }
   ],
   "source": [
    "# Alternatively\n",
    "tmp.stats()"
   ]
  },
  {
   "cell_type": "code",
   "execution_count": 58,
   "metadata": {},
   "outputs": [
    {
     "name": "stdout",
     "output_type": "stream",
     "text": [
      "+---------------------+\n",
      "|skewness(temperature)|\n",
      "+---------------------+\n",
      "| 0.010410008042945581|\n",
      "+---------------------+\n",
      "\n",
      "+---------------------+\n",
      "|kurtosis(temperature)|\n",
      "+---------------------+\n",
      "|  -1.2239269305786886|\n",
      "+---------------------+\n",
      "\n"
     ]
    }
   ],
   "source": [
    "from pyspark.sql import functions as f\n",
    "df.select(f.skewness('temperature')).show()\n",
    "df.select(f.kurtosis('temperature')).show()"
   ]
  },
  {
   "cell_type": "code",
   "execution_count": 74,
   "metadata": {},
   "outputs": [
    {
     "name": "stdout",
     "output_type": "stream",
     "text": [
      "skewness = 0.010 \n",
      "kurtosis = 1.776\n"
     ]
    }
   ],
   "source": [
    "#alternatively, compute from groundup\n",
    "n = tmp.count()\n",
    "skew = tmp.map(lambda x: pow(x-mean,3)*1/n*1/pow(std,3)).sum()\n",
    "kurt = tmp.map(lambda x: pow(x-mean,4)*1/n*1/pow(std,4)).sum()  # reduce(lambda a,b: a+b ) also works as sum()\n",
    "print('skewness = %1.3f \\nkurtosis = %1.3f'%(skew,kurt))"
   ]
  },
  {
   "cell_type": "code",
   "execution_count": 84,
   "metadata": {},
   "outputs": [
    {
     "name": "stdout",
     "output_type": "stream",
     "text": [
      "temp_hardness_corr = 0.018\n"
     ]
    }
   ],
   "source": [
    "# correlation\n",
    "from pyspark.mllib.stat import Statistics\n",
    "\n",
    "hard = df.select('hardness').na.drop().rdd.map(lambda row: row.hardness)\n",
    "corr = Statistics.corr(tmp,hard, method='pearson')\n",
    "print('temp_hardness_corr = %1.3f'%(corr))"
   ]
  },
  {
   "cell_type": "code",
   "execution_count": 90,
   "metadata": {},
   "outputs": [
    {
     "name": "stdout",
     "output_type": "stream",
     "text": [
      "temp_hardness_corr = 0.018\n"
     ]
    }
   ],
   "source": [
    "#alternatively\n",
    "tmp_hrd = tmp.zip(hard)\n",
    "mean2 = hard.mean()\n",
    "std2 = hard.stdev()\n",
    "corr = tmp_hrd.map(lambda x: (x[0]-mean)*(x[1]-mean2)/(n*std*std2)).sum()\n",
    "print('temp_hardness_corr = %1.3f'%(corr))"
   ]
  },
  {
   "cell_type": "code",
   "execution_count": null,
   "metadata": {},
   "outputs": [],
   "source": []
  }
 ],
 "metadata": {
  "kernelspec": {
   "display_name": "Python 3",
   "language": "python",
   "name": "python3"
  },
  "language_info": {
   "codemirror_mode": {
    "name": "ipython",
    "version": 3
   },
   "file_extension": ".py",
   "mimetype": "text/x-python",
   "name": "python",
   "nbconvert_exporter": "python",
   "pygments_lexer": "ipython3",
   "version": "3.6.5"
  }
 },
 "nbformat": 4,
 "nbformat_minor": 4
}
