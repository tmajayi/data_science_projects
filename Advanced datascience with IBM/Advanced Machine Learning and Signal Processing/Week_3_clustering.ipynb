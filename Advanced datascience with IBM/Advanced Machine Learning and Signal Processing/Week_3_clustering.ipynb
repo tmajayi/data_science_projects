{
 "cells": [
  {
   "cell_type": "code",
   "execution_count": 1,
   "metadata": {},
   "outputs": [],
   "source": [
    "from pyspark import SparkContext, SparkConf\n",
    "from pyspark.sql import SparkSession\n",
    "\n",
    "sc = SparkContext.getOrCreate(SparkConf().setMaster(\"local[*]\"))\n",
    "\n",
    "spark = SparkSession \\\n",
    "    .builder \\\n",
    "    .getOrCreate()"
   ]
  },
  {
   "cell_type": "code",
   "execution_count": 2,
   "metadata": {},
   "outputs": [
    {
     "name": "stdout",
     "output_type": "stream",
     "text": [
      "+-----+-----------+-------------------+-------------------+-------------------+\n",
      "|CLASS|   SENSORID|                  X|                  Y|                  Z|\n",
      "+-----+-----------+-------------------+-------------------+-------------------+\n",
      "|    0|         26| 380.66434005495194| -139.3470983812975|-247.93697521077704|\n",
      "|    0|         29| 104.74324299209692| -32.27421440203938|-25.105013725863852|\n",
      "|    0| 8589934658| 118.11469236129976| 45.916682927433534| -87.97203782706572|\n",
      "|    0|34359738398| 246.55394030642543|-0.6122810693132044|-398.18662513951506|\n",
      "|    0|17179869241|-190.32584900181487|  234.7849657520335|-206.34483804019288|\n",
      "+-----+-----------+-------------------+-------------------+-------------------+\n",
      "only showing top 5 rows\n",
      "\n"
     ]
    }
   ],
   "source": [
    "df=spark.read.load('a2.parquet')\n",
    "df.createOrReplaceTempView(\"df\")\n",
    "spark.sql(\"SELECT * from df\").show(5)"
   ]
  },
  {
   "cell_type": "code",
   "execution_count": 3,
   "metadata": {},
   "outputs": [
    {
     "name": "stdout",
     "output_type": "stream",
     "text": [
      "+------------+-----+\n",
      "|count(class)|class|\n",
      "+------------+-----+\n",
      "|        1416|    1|\n",
      "|        1626|    0|\n",
      "+------------+-----+\n",
      "\n"
     ]
    }
   ],
   "source": [
    "# count the class distribution\n",
    "spark.sql(\"SELECT count(class), class from df group by class\").show()"
   ]
  },
  {
   "cell_type": "code",
   "execution_count": 4,
   "metadata": {},
   "outputs": [],
   "source": [
    "#create the 'features' column from vectors X,Y,Z\n",
    "from pyspark.ml.feature import VectorAssembler\n",
    "assembler = VectorAssembler(inputCols=['X','Y','Z'],outputCol='features')"
   ]
  },
  {
   "cell_type": "code",
   "execution_count": 5,
   "metadata": {},
   "outputs": [],
   "source": [
    "def evaluator(prediction):\n",
    "    prediction.createOrReplaceTempView('prediction')\n",
    "    eva = spark.sql('''\n",
    "        select max(correct)/max(total) as accuracy from (\n",
    "\n",
    "        select sum(correct) as correct, count(correct) as total from (\n",
    "            select case when class != prediction then 1 else 0 end as correct from prediction \n",
    "        ) \n",
    "    \n",
    "        union\n",
    "    \n",
    "        select sum(correct) as correct, count(correct) as total from (\n",
    "            select case when class = prediction then 1 else 0 end as correct from prediction \n",
    "        ) \n",
    "    )\n",
    "    ''').rdd.map(lambda row: row.accuracy).collect()[0]\n",
    "    return eva"
   ]
  },
  {
   "cell_type": "code",
   "execution_count": 6,
   "metadata": {},
   "outputs": [
    {
     "name": "stdout",
     "output_type": "stream",
     "text": [
      "+-----+-----------+-------------------+-------------------+-------------------+--------------------+----------+\n",
      "|CLASS|   SENSORID|                  X|                  Y|                  Z|            features|prediction|\n",
      "+-----+-----------+-------------------+-------------------+-------------------+--------------------+----------+\n",
      "|    0|         26| 380.66434005495194| -139.3470983812975|-247.93697521077704|[380.664340054951...|         1|\n",
      "|    0|         29| 104.74324299209692| -32.27421440203938|-25.105013725863852|[104.743242992096...|         0|\n",
      "|    0| 8589934658| 118.11469236129976| 45.916682927433534| -87.97203782706572|[118.114692361299...|         1|\n",
      "|    0|34359738398| 246.55394030642543|-0.6122810693132044|-398.18662513951506|[246.553940306425...|         1|\n",
      "|    0|17179869241|-190.32584900181487|  234.7849657520335|-206.34483804019288|[-190.32584900181...|         1|\n",
      "+-----+-----------+-------------------+-------------------+-------------------+--------------------+----------+\n",
      "only showing top 5 rows\n",
      "\n",
      "0.6206443129520053\n"
     ]
    }
   ],
   "source": [
    "# use KMeans clustering, via pipeline\n",
    "from pyspark.ml.clustering import KMeans\n",
    "from pyspark.ml import Pipeline\n",
    "\n",
    "clust = KMeans().setK(2).setSeed(1)\n",
    "pipeline = Pipeline(stages=[assembler,clust])\n",
    "model = pipeline.fit(df)\n",
    "prediction = model.transform(df)\n",
    "prediction.show(5)\n",
    "print(evaluator(prediction))"
   ]
  },
  {
   "cell_type": "code",
   "execution_count": 7,
   "metadata": {},
   "outputs": [
    {
     "name": "stdout",
     "output_type": "stream",
     "text": [
      "+-----+-----------+-------------------+-------------------+-------------------+--------------------+----------+\n",
      "|CLASS|   SENSORID|                  X|                  Y|                  Z|            features|prediction|\n",
      "+-----+-----------+-------------------+-------------------+-------------------+--------------------+----------+\n",
      "|    0|         26| 380.66434005495194| -139.3470983812975|-247.93697521077704|[380.664340054951...|         0|\n",
      "|    0|         29| 104.74324299209692| -32.27421440203938|-25.105013725863852|[104.743242992096...|         0|\n",
      "|    0| 8589934658| 118.11469236129976| 45.916682927433534| -87.97203782706572|[118.114692361299...|         0|\n",
      "|    0|34359738398| 246.55394030642543|-0.6122810693132044|-398.18662513951506|[246.553940306425...|         0|\n",
      "|    0|17179869241|-190.32584900181487|  234.7849657520335|-206.34483804019288|[-190.32584900181...|         0|\n",
      "+-----+-----------+-------------------+-------------------+-------------------+--------------------+----------+\n",
      "only showing top 5 rows\n",
      "\n",
      "0.6804733727810651\n"
     ]
    }
   ],
   "source": [
    "# use Hierarchical clustering (or bisecting KMeans)\n",
    "from pyspark.ml.clustering import BisectingKMeans\n",
    "\n",
    "bkm = BisectingKMeans().setK(2).setSeed(1)\n",
    "pipeline = Pipeline(stages=[assembler,bkm])\n",
    "model = pipeline.fit(df)\n",
    "prediction2 = model.transform(df)\n",
    "prediction2.show(5)\n",
    "print(evaluator(prediction2))"
   ]
  },
  {
   "cell_type": "code",
   "execution_count": 8,
   "metadata": {},
   "outputs": [
    {
     "name": "stdout",
     "output_type": "stream",
     "text": [
      "0.9927679158448389\n"
     ]
    }
   ],
   "source": [
    "# use GaussianMixture model\n",
    "from pyspark.ml.clustering import GaussianMixture\n",
    "\n",
    "gmm = GaussianMixture().setK(2)\n",
    "pipeline = Pipeline(stages=[assembler,gmm])\n",
    "model = pipeline.fit(df)\n",
    "prediction3 = model.transform(df)\n",
    "print(evaluator(prediction3))"
   ]
  },
  {
   "cell_type": "markdown",
   "metadata": {},
   "source": [
    "Let's breakdown the nested evaluator function"
   ]
  },
  {
   "cell_type": "code",
   "execution_count": 11,
   "metadata": {},
   "outputs": [
    {
     "name": "stdout",
     "output_type": "stream",
     "text": [
      "+-------+\n",
      "|correct|\n",
      "+-------+\n",
      "|      0|\n",
      "|      0|\n",
      "|      0|\n",
      "|      0|\n",
      "+-------+\n",
      "only showing top 4 rows\n",
      "\n",
      "+-------+\n",
      "|correct|\n",
      "+-------+\n",
      "|      1|\n",
      "|      1|\n",
      "|      1|\n",
      "|      1|\n",
      "+-------+\n",
      "only showing top 4 rows\n",
      "\n"
     ]
    }
   ],
   "source": [
    "prediction3.createOrReplaceTempView('prediction')\n",
    "step1a = spark.sql('select case when class = prediction then 1 else 0 end as correct from prediction')\n",
    "step1b = spark.sql('select case when class != prediction then 1 else 0 end as correct from prediction')\n",
    "step1a.show(4)\n",
    "step1b.show(4)"
   ]
  },
  {
   "cell_type": "code",
   "execution_count": 13,
   "metadata": {},
   "outputs": [
    {
     "name": "stdout",
     "output_type": "stream",
     "text": [
      "+-------+-----+\n",
      "|correct|total|\n",
      "+-------+-----+\n",
      "|     22| 3042|\n",
      "+-------+-----+\n",
      "\n",
      "+-------+-----+\n",
      "|correct|total|\n",
      "+-------+-----+\n",
      "|   3020| 3042|\n",
      "+-------+-----+\n",
      "\n"
     ]
    }
   ],
   "source": [
    "step1a.createOrReplaceTempView('step1a')\n",
    "step1b.createOrReplaceTempView('step1b')\n",
    "\n",
    "step2a = spark.sql('select sum(correct) as correct, count(correct) as total from step1a')\n",
    "step2b = spark.sql('select sum(correct) as correct, count(correct) as total from step1b')\n",
    "step2a.show(4)\n",
    "step2b.show(4)"
   ]
  },
  {
   "cell_type": "code",
   "execution_count": 17,
   "metadata": {},
   "outputs": [
    {
     "name": "stdout",
     "output_type": "stream",
     "text": [
      "+-------+-----+\n",
      "|correct|total|\n",
      "+-------+-----+\n",
      "|     22| 3042|\n",
      "|   3020| 3042|\n",
      "+-------+-----+\n",
      "\n"
     ]
    }
   ],
   "source": [
    "step2a.createOrReplaceTempView('step2a')\n",
    "step2b.createOrReplaceTempView('step2b')\n",
    "\n",
    "step3 = spark.sql('select * from step2a union select * from step2b')\n",
    "step3.show(4)"
   ]
  },
  {
   "cell_type": "code",
   "execution_count": 18,
   "metadata": {},
   "outputs": [
    {
     "name": "stdout",
     "output_type": "stream",
     "text": [
      "+------------------+\n",
      "|          accuracy|\n",
      "+------------------+\n",
      "|0.9927679158448389|\n",
      "+------------------+\n",
      "\n"
     ]
    }
   ],
   "source": [
    "step3.createOrReplaceTempView('step3')\n",
    "\n",
    "step4 = spark.sql('select max(correct)/max(total) as accuracy from step3')\n",
    "step4.show()"
   ]
  },
  {
   "cell_type": "code",
   "execution_count": 19,
   "metadata": {},
   "outputs": [
    {
     "data": {
      "text/plain": [
       "0.9927679158448389"
      ]
     },
     "execution_count": 19,
     "metadata": {},
     "output_type": "execute_result"
    }
   ],
   "source": [
    "step4.rdd.map(lambda row: row.accuracy).collect()[0]"
   ]
  },
  {
   "cell_type": "code",
   "execution_count": null,
   "metadata": {},
   "outputs": [],
   "source": []
  }
 ],
 "metadata": {
  "kernelspec": {
   "display_name": "Python 3",
   "language": "python",
   "name": "python3"
  },
  "language_info": {
   "codemirror_mode": {
    "name": "ipython",
    "version": 3
   },
   "file_extension": ".py",
   "mimetype": "text/x-python",
   "name": "python",
   "nbconvert_exporter": "python",
   "pygments_lexer": "ipython3",
   "version": "3.6.5"
  }
 },
 "nbformat": 4,
 "nbformat_minor": 4
}
