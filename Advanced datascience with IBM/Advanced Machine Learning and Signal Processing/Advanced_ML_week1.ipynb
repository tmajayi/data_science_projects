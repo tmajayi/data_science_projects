{
 "cells": [
  {
   "cell_type": "markdown",
   "metadata": {},
   "source": [
    "This is the first assignment for the Coursera course \"Advanced Machine Learning and Signal Processing\"\n",
    "\n",
    "Just execute all cells one after the other and you are done - just note that in the last one you have to update your email address (the one you've used for coursera) and obtain a submission token, you get this from the programming assignment directly on coursera."
   ]
  },
  {
   "cell_type": "markdown",
   "metadata": {},
   "source": [
    "This notebook is designed to run in a IBM Watson Studio default runtime (NOT the Watson Studio Apache Spark Runtime as the default runtime with 1 vCPU is free of charge). Therefore, we install Apache Spark in local mode for test purposes only. Please don't use it in production.\n",
    "\n",
    "In case you are facing issues, please read the following two documents first:\n",
    "\n",
    "https://github.com/IBM/skillsnetwork/wiki/Environment-Setup\n",
    "\n",
    "https://github.com/IBM/skillsnetwork/wiki/FAQ\n",
    "\n",
    "Then, please feel free to ask:\n",
    "\n",
    "https://coursera.org/learn/machine-learning-big-data-apache-spark/discussions/all\n",
    "\n",
    "Please make sure to follow the guidelines before asking a question:\n",
    "\n",
    "https://github.com/IBM/skillsnetwork/wiki/FAQ#im-feeling-lost-and-confused-please-help-me\n",
    "\n",
    "\n",
    "If running outside Watson Studio, this should work as well. In case you are running in an Apache Spark context outside Watson Studio, please remove the Apache Spark setup in the first notebook cells."
   ]
  },
  {
   "cell_type": "code",
   "execution_count": 2,
   "metadata": {},
   "outputs": [],
   "source": [
    "from IPython.display import Markdown, display\n",
    "def printmd(string):\n",
    "    display(Markdown('# <span style=\"color:red\">'+string+'</span>'))\n",
    "\n",
    "\n",
    "if ('sc' in locals() or 'sc' in globals()):\n",
    "    printmd('<<<<<!!!!! It seems that you are running in a IBM Watson Studio Apache Spark Notebook. Please run it in an IBM Watson Studio Default Runtime (without Apache Spark) !!!!!>>>>>')\n"
   ]
  },
  {
   "cell_type": "code",
   "execution_count": 1,
   "metadata": {},
   "outputs": [],
   "source": [
    "#!pip install pyspark==2.4.5"
   ]
  },
  {
   "cell_type": "code",
   "execution_count": 2,
   "metadata": {},
   "outputs": [],
   "source": [
    "try:\n",
    "    from pyspark import SparkContext, SparkConf\n",
    "    from pyspark.sql import SparkSession\n",
    "except ImportError as e:\n",
    "    printmd('<<<<<!!!!! Please restart your kernel after installing Apache Spark !!!!!>>>>>')"
   ]
  },
  {
   "cell_type": "code",
   "execution_count": 3,
   "metadata": {},
   "outputs": [],
   "source": [
    "sc = SparkContext.getOrCreate(SparkConf().setMaster(\"local[*]\"))\n",
    "\n",
    "spark = SparkSession \\\n",
    "    .builder \\\n",
    "    .getOrCreate()"
   ]
  },
  {
   "cell_type": "code",
   "execution_count": 4,
   "metadata": {},
   "outputs": [
    {
     "name": "stderr",
     "output_type": "stream",
     "text": [
      "--2020-05-21 15:14:46--  https://github.com/IBM/coursera/raw/master/coursera_ml/a2.parquet\n",
      "Resolving github.com (github.com)... 140.82.114.4\n",
      "Connecting to github.com (github.com)|140.82.114.4|:443... connected.\n",
      "HTTP request sent, awaiting response... 301 Moved Permanently\n",
      "Location: https://github.com/IBM/skillsnetwork/raw/master/coursera_ml/a2.parquet [following]\n",
      "--2020-05-21 15:14:47--  https://github.com/IBM/skillsnetwork/raw/master/coursera_ml/a2.parquet\n",
      "Reusing existing connection to github.com:443.\n",
      "HTTP request sent, awaiting response... 302 Found\n",
      "Location: https://raw.githubusercontent.com/IBM/skillsnetwork/master/coursera_ml/a2.parquet [following]\n",
      "--2020-05-21 15:14:47--  https://raw.githubusercontent.com/IBM/skillsnetwork/master/coursera_ml/a2.parquet\n",
      "Resolving raw.githubusercontent.com (raw.githubusercontent.com)... 199.232.28.133\n",
      "Connecting to raw.githubusercontent.com (raw.githubusercontent.com)|199.232.28.133|:443... connected.\n",
      "HTTP request sent, awaiting response... 200 OK\n",
      "Length: 59032 (58K) [application/octet-stream]\n",
      "Saving to: 'a2.parquet'\n",
      "\n",
      "     0K .......... .......... .......... .......... .......... 86%  184K 0s\n",
      "    50K .......                                               100% 2.01M=0.3s\n",
      "\n",
      "2020-05-21 15:14:47 (210 KB/s) - 'a2.parquet' saved [59032/59032]\n",
      "\n"
     ]
    }
   ],
   "source": [
    "!wget https://github.com/IBM/coursera/raw/master/coursera_ml/a2.parquet"
   ]
  },
  {
   "cell_type": "code",
   "execution_count": 9,
   "metadata": {},
   "outputs": [
    {
     "name": "stdout",
     "output_type": "stream",
     "text": [
      "+-----+-----------+-------------------+-------------------+-------------------+\n",
      "|CLASS|   SENSORID|                  X|                  Y|                  Z|\n",
      "+-----+-----------+-------------------+-------------------+-------------------+\n",
      "|    0|         26| 380.66434005495194| -139.3470983812975|-247.93697521077704|\n",
      "|    0|         29| 104.74324299209692| -32.27421440203938|-25.105013725863852|\n",
      "|    0| 8589934658| 118.11469236129976| 45.916682927433534| -87.97203782706572|\n",
      "|    0|34359738398| 246.55394030642543|-0.6122810693132044|-398.18662513951506|\n",
      "|    0|17179869241|-190.32584900181487|  234.7849657520335|-206.34483804019288|\n",
      "+-----+-----------+-------------------+-------------------+-------------------+\n",
      "only showing top 5 rows\n",
      "\n"
     ]
    }
   ],
   "source": [
    "df=spark.read.load('a2.parquet')\n",
    "\n",
    "df.createOrReplaceTempView(\"df\")\n",
    "spark.sql(\"SELECT * from df\").show(5)\n"
   ]
  },
  {
   "cell_type": "code",
   "execution_count": 13,
   "metadata": {},
   "outputs": [
    {
     "name": "stdout",
     "output_type": "stream",
     "text": [
      "+-----+-----------+-------------------+-------------------+-------------------+-------------+\n",
      "|CLASS|   SENSORID|                  X|                  Y|                  Z|    Enc_CLass|\n",
      "+-----+-----------+-------------------+-------------------+-------------------+-------------+\n",
      "|    0|         26| 380.66434005495194| -139.3470983812975|-247.93697521077704|(1,[0],[1.0])|\n",
      "|    0|         29| 104.74324299209692| -32.27421440203938|-25.105013725863852|(1,[0],[1.0])|\n",
      "|    0| 8589934658| 118.11469236129976| 45.916682927433534| -87.97203782706572|(1,[0],[1.0])|\n",
      "|    0|34359738398| 246.55394030642543|-0.6122810693132044|-398.18662513951506|(1,[0],[1.0])|\n",
      "|    0|17179869241|-190.32584900181487|  234.7849657520335|-206.34483804019288|(1,[0],[1.0])|\n",
      "+-----+-----------+-------------------+-------------------+-------------------+-------------+\n",
      "only showing top 5 rows\n",
      "\n"
     ]
    }
   ],
   "source": [
    "# use onehot encoder on class\n",
    "from pyspark.ml.feature import OneHotEncoder\n",
    "\n",
    "encoder = OneHotEncoder(inputCol='CLASS',outputCol='Enc_CLass')\n",
    "encoded = encoder.transform(df)\n",
    "encoded.show(5)"
   ]
  },
  {
   "cell_type": "code",
   "execution_count": 18,
   "metadata": {},
   "outputs": [
    {
     "name": "stdout",
     "output_type": "stream",
     "text": [
      "+-----+-----------+-------------------+-------------------+-------------------+-------------+--------------------+\n",
      "|CLASS|   SENSORID|                  X|                  Y|                  Z|    Enc_CLass|             Feature|\n",
      "+-----+-----------+-------------------+-------------------+-------------------+-------------+--------------------+\n",
      "|    0|         26| 380.66434005495194| -139.3470983812975|-247.93697521077704|(1,[0],[1.0])|[380.664340054951...|\n",
      "|    0|         29| 104.74324299209692| -32.27421440203938|-25.105013725863852|(1,[0],[1.0])|[104.743242992096...|\n",
      "|    0| 8589934658| 118.11469236129976| 45.916682927433534| -87.97203782706572|(1,[0],[1.0])|[118.114692361299...|\n",
      "|    0|34359738398| 246.55394030642543|-0.6122810693132044|-398.18662513951506|(1,[0],[1.0])|[246.553940306425...|\n",
      "|    0|17179869241|-190.32584900181487|  234.7849657520335|-206.34483804019288|(1,[0],[1.0])|[-190.32584900181...|\n",
      "+-----+-----------+-------------------+-------------------+-------------------+-------------+--------------------+\n",
      "only showing top 5 rows\n",
      "\n"
     ]
    }
   ],
   "source": [
    "# create a vector assembly from vectors X,Y,Z\n",
    "from pyspark.ml.feature import VectorAssembler\n",
    "\n",
    "assembler = VectorAssembler(inputCols=['X','Y','Z'],outputCol='Feature')\n",
    "assembled = assembler.transform(encoded)\n",
    "assembled.show(5)\n",
    "\n"
   ]
  },
  {
   "cell_type": "code",
   "execution_count": 21,
   "metadata": {},
   "outputs": [
    {
     "name": "stdout",
     "output_type": "stream",
     "text": [
      "+-----+-----------+-------------------+-------------------+-------------------+-------------+--------------------+\n",
      "|CLASS|   SENSORID|                  X|                  Y|                  Z|    Enc_CLass|             Feature|\n",
      "+-----+-----------+-------------------+-------------------+-------------------+-------------+--------------------+\n",
      "|    0|         26| 380.66434005495194| -139.3470983812975|-247.93697521077704|(1,[0],[1.0])|[380.664340054951...|\n",
      "|    0|         29| 104.74324299209692| -32.27421440203938|-25.105013725863852|(1,[0],[1.0])|[104.743242992096...|\n",
      "|    0| 8589934658| 118.11469236129976| 45.916682927433534| -87.97203782706572|(1,[0],[1.0])|[118.114692361299...|\n",
      "|    0|34359738398| 246.55394030642543|-0.6122810693132044|-398.18662513951506|(1,[0],[1.0])|[246.553940306425...|\n",
      "|    0|17179869241|-190.32584900181487|  234.7849657520335|-206.34483804019288|(1,[0],[1.0])|[-190.32584900181...|\n",
      "+-----+-----------+-------------------+-------------------+-------------------+-------------+--------------------+\n",
      "only showing top 5 rows\n",
      "\n"
     ]
    }
   ],
   "source": [
    "# use pipeline\n",
    "from pyspark.ml import Pipeline\n",
    "\n",
    "pipeline = Pipeline(stages=[encoder,assembler])\n",
    "model = pipeline.fit(df)\n",
    "processed = model.transform(df)\n",
    "processed.show(5)"
   ]
  },
  {
   "cell_type": "code",
   "execution_count": 24,
   "metadata": {},
   "outputs": [
    {
     "name": "stdout",
     "output_type": "stream",
     "text": [
      "+-------------+--------------------+\n",
      "|    Enc_CLass|             Feature|\n",
      "+-------------+--------------------+\n",
      "|(1,[0],[1.0])|[380.664340054951...|\n",
      "|(1,[0],[1.0])|[104.743242992096...|\n",
      "|(1,[0],[1.0])|[118.114692361299...|\n",
      "|(1,[0],[1.0])|[246.553940306425...|\n",
      "|(1,[0],[1.0])|[-190.32584900181...|\n",
      "+-------------+--------------------+\n",
      "only showing top 5 rows\n",
      "\n"
     ]
    }
   ],
   "source": [
    "X_train = processed.drop('X').drop('Y').drop('Z').drop('CLASS').drop('SENSORID')\n",
    "X_train.show(5)"
   ]
  },
  {
   "cell_type": "code",
   "execution_count": null,
   "metadata": {},
   "outputs": [],
   "source": []
  }
 ],
 "metadata": {
  "kernelspec": {
   "display_name": "Python 3",
   "language": "python",
   "name": "python3"
  },
  "language_info": {
   "codemirror_mode": {
    "name": "ipython",
    "version": 3
   },
   "file_extension": ".py",
   "mimetype": "text/x-python",
   "name": "python",
   "nbconvert_exporter": "python",
   "pygments_lexer": "ipython3",
   "version": "3.6.5"
  }
 },
 "nbformat": 4,
 "nbformat_minor": 4
}
