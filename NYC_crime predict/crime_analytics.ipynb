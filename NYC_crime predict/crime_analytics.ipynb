{
 "cells": [
  {
   "cell_type": "markdown",
   "metadata": {},
   "source": [
    "# NYPD Crime Complaint Data (Nov 2013 - Dec 2015)"
   ]
  },
  {
   "cell_type": "code",
   "execution_count": 1,
   "metadata": {
    "pixiedust": {
     "displayParams": {
      "handlerId": "tableView"
     }
    },
    "scrolled": true
   },
   "outputs": [
    {
     "name": "stdout",
     "output_type": "stream",
     "text": [
      "Pixiedust database opened successfully\n"
     ]
    },
    {
     "data": {
      "text/html": [
       "\n",
       "        <div style=\"margin:10px\">\n",
       "            <a href=\"https://github.com/ibm-watson-data-lab/pixiedust\" target=\"_new\">\n",
       "                <img src=\"https://github.com/ibm-watson-data-lab/pixiedust/raw/master/docs/_static/pd_icon32.png\" style=\"float:left;margin-right:10px\"/>\n",
       "            </a>\n",
       "            <span>Pixiedust version 1.1.18</span>\n",
       "        </div>\n",
       "        "
      ],
      "text/plain": [
       "<IPython.core.display.HTML object>"
      ]
     },
     "metadata": {},
     "output_type": "display_data"
    },
    {
     "name": "stderr",
     "output_type": "stream",
     "text": [
      "C:\\Users\\miket\\Anaconda3\\lib\\site-packages\\IPython\\core\\interactiveshell.py:3063: DtypeWarning: Columns (17) have mixed types.Specify dtype option on import or set low_memory=False.\n",
      "  interactivity=interactivity, compiler=compiler, result=result)\n"
     ]
    },
    {
     "data": {
      "text/html": [
       "<div>\n",
       "<style scoped>\n",
       "    .dataframe tbody tr th:only-of-type {\n",
       "        vertical-align: middle;\n",
       "    }\n",
       "\n",
       "    .dataframe tbody tr th {\n",
       "        vertical-align: top;\n",
       "    }\n",
       "\n",
       "    .dataframe thead th {\n",
       "        text-align: right;\n",
       "    }\n",
       "</style>\n",
       "<table border=\"1\" class=\"dataframe\">\n",
       "  <thead>\n",
       "    <tr style=\"text-align: right;\">\n",
       "      <th></th>\n",
       "      <th>CMPLNT_NUM</th>\n",
       "      <th>CMPLNT_FR_DT</th>\n",
       "      <th>CMPLNT_FR_TM</th>\n",
       "      <th>CMPLNT_TO_DT</th>\n",
       "      <th>CMPLNT_TO_TM</th>\n",
       "      <th>RPT_DT</th>\n",
       "      <th>KY_CD</th>\n",
       "      <th>OFNS_DESC</th>\n",
       "      <th>PD_CD</th>\n",
       "      <th>PD_DESC</th>\n",
       "      <th>...</th>\n",
       "      <th>ADDR_PCT_CD</th>\n",
       "      <th>LOC_OF_OCCUR_DESC</th>\n",
       "      <th>PREM_TYP_DESC</th>\n",
       "      <th>PARKS_NM</th>\n",
       "      <th>HADEVELOPT</th>\n",
       "      <th>X_COORD_CD</th>\n",
       "      <th>Y_COORD_CD</th>\n",
       "      <th>Latitude</th>\n",
       "      <th>Longitude</th>\n",
       "      <th>Lat_Lon</th>\n",
       "    </tr>\n",
       "  </thead>\n",
       "  <tbody>\n",
       "    <tr>\n",
       "      <th>0</th>\n",
       "      <td>101109527</td>\n",
       "      <td>12/31/2015</td>\n",
       "      <td>23:45:00</td>\n",
       "      <td>NaN</td>\n",
       "      <td>NaN</td>\n",
       "      <td>12/31/2015</td>\n",
       "      <td>113</td>\n",
       "      <td>FORGERY</td>\n",
       "      <td>729.0</td>\n",
       "      <td>FORGERY,ETC.,UNCLASSIFIED-FELO</td>\n",
       "      <td>...</td>\n",
       "      <td>44.0</td>\n",
       "      <td>INSIDE</td>\n",
       "      <td>BAR/NIGHT CLUB</td>\n",
       "      <td>NaN</td>\n",
       "      <td>NaN</td>\n",
       "      <td>1007314.0</td>\n",
       "      <td>241257.0</td>\n",
       "      <td>40.828848</td>\n",
       "      <td>-73.916661</td>\n",
       "      <td>(40.828848333, -73.916661142)</td>\n",
       "    </tr>\n",
       "    <tr>\n",
       "      <th>1</th>\n",
       "      <td>153401121</td>\n",
       "      <td>12/31/2015</td>\n",
       "      <td>23:36:00</td>\n",
       "      <td>NaN</td>\n",
       "      <td>NaN</td>\n",
       "      <td>12/31/2015</td>\n",
       "      <td>101</td>\n",
       "      <td>MURDER &amp; NON-NEGL. MANSLAUGHTER</td>\n",
       "      <td>NaN</td>\n",
       "      <td>NaN</td>\n",
       "      <td>...</td>\n",
       "      <td>103.0</td>\n",
       "      <td>OUTSIDE</td>\n",
       "      <td>NaN</td>\n",
       "      <td>NaN</td>\n",
       "      <td>NaN</td>\n",
       "      <td>1043991.0</td>\n",
       "      <td>193406.0</td>\n",
       "      <td>40.697338</td>\n",
       "      <td>-73.784557</td>\n",
       "      <td>(40.697338138, -73.784556739)</td>\n",
       "    </tr>\n",
       "    <tr>\n",
       "      <th>2</th>\n",
       "      <td>569369778</td>\n",
       "      <td>12/31/2015</td>\n",
       "      <td>23:30:00</td>\n",
       "      <td>NaN</td>\n",
       "      <td>NaN</td>\n",
       "      <td>12/31/2015</td>\n",
       "      <td>117</td>\n",
       "      <td>DANGEROUS DRUGS</td>\n",
       "      <td>503.0</td>\n",
       "      <td>CONTROLLED SUBSTANCE,INTENT TO</td>\n",
       "      <td>...</td>\n",
       "      <td>28.0</td>\n",
       "      <td>NaN</td>\n",
       "      <td>OTHER</td>\n",
       "      <td>NaN</td>\n",
       "      <td>NaN</td>\n",
       "      <td>999463.0</td>\n",
       "      <td>231690.0</td>\n",
       "      <td>40.802607</td>\n",
       "      <td>-73.945052</td>\n",
       "      <td>(40.802606608, -73.945051911)</td>\n",
       "    </tr>\n",
       "    <tr>\n",
       "      <th>3</th>\n",
       "      <td>968417082</td>\n",
       "      <td>12/31/2015</td>\n",
       "      <td>23:30:00</td>\n",
       "      <td>NaN</td>\n",
       "      <td>NaN</td>\n",
       "      <td>12/31/2015</td>\n",
       "      <td>344</td>\n",
       "      <td>ASSAULT 3 &amp; RELATED OFFENSES</td>\n",
       "      <td>101.0</td>\n",
       "      <td>ASSAULT 3</td>\n",
       "      <td>...</td>\n",
       "      <td>105.0</td>\n",
       "      <td>INSIDE</td>\n",
       "      <td>RESIDENCE-HOUSE</td>\n",
       "      <td>NaN</td>\n",
       "      <td>NaN</td>\n",
       "      <td>1060183.0</td>\n",
       "      <td>177862.0</td>\n",
       "      <td>40.654549</td>\n",
       "      <td>-73.726339</td>\n",
       "      <td>(40.654549444, -73.726338791)</td>\n",
       "    </tr>\n",
       "    <tr>\n",
       "      <th>4</th>\n",
       "      <td>641637920</td>\n",
       "      <td>12/31/2015</td>\n",
       "      <td>23:25:00</td>\n",
       "      <td>12/31/2015</td>\n",
       "      <td>23:30:00</td>\n",
       "      <td>12/31/2015</td>\n",
       "      <td>344</td>\n",
       "      <td>ASSAULT 3 &amp; RELATED OFFENSES</td>\n",
       "      <td>101.0</td>\n",
       "      <td>ASSAULT 3</td>\n",
       "      <td>...</td>\n",
       "      <td>13.0</td>\n",
       "      <td>FRONT OF</td>\n",
       "      <td>OTHER</td>\n",
       "      <td>NaN</td>\n",
       "      <td>NaN</td>\n",
       "      <td>987606.0</td>\n",
       "      <td>208148.0</td>\n",
       "      <td>40.738002</td>\n",
       "      <td>-73.987891</td>\n",
       "      <td>(40.7380024, -73.98789129)</td>\n",
       "    </tr>\n",
       "  </tbody>\n",
       "</table>\n",
       "<p>5 rows × 24 columns</p>\n",
       "</div>"
      ],
      "text/plain": [
       "   CMPLNT_NUM CMPLNT_FR_DT CMPLNT_FR_TM CMPLNT_TO_DT CMPLNT_TO_TM      RPT_DT  \\\n",
       "0   101109527   12/31/2015     23:45:00          NaN          NaN  12/31/2015   \n",
       "1   153401121   12/31/2015     23:36:00          NaN          NaN  12/31/2015   \n",
       "2   569369778   12/31/2015     23:30:00          NaN          NaN  12/31/2015   \n",
       "3   968417082   12/31/2015     23:30:00          NaN          NaN  12/31/2015   \n",
       "4   641637920   12/31/2015     23:25:00   12/31/2015     23:30:00  12/31/2015   \n",
       "\n",
       "   KY_CD                        OFNS_DESC  PD_CD  \\\n",
       "0    113                          FORGERY  729.0   \n",
       "1    101  MURDER & NON-NEGL. MANSLAUGHTER    NaN   \n",
       "2    117                  DANGEROUS DRUGS  503.0   \n",
       "3    344     ASSAULT 3 & RELATED OFFENSES  101.0   \n",
       "4    344     ASSAULT 3 & RELATED OFFENSES  101.0   \n",
       "\n",
       "                          PD_DESC  ... ADDR_PCT_CD LOC_OF_OCCUR_DESC  \\\n",
       "0  FORGERY,ETC.,UNCLASSIFIED-FELO  ...        44.0            INSIDE   \n",
       "1                             NaN  ...       103.0           OUTSIDE   \n",
       "2  CONTROLLED SUBSTANCE,INTENT TO  ...        28.0               NaN   \n",
       "3                       ASSAULT 3  ...       105.0            INSIDE   \n",
       "4                       ASSAULT 3  ...        13.0          FRONT OF   \n",
       "\n",
       "     PREM_TYP_DESC PARKS_NM  HADEVELOPT X_COORD_CD Y_COORD_CD   Latitude  \\\n",
       "0   BAR/NIGHT CLUB      NaN         NaN  1007314.0   241257.0  40.828848   \n",
       "1              NaN      NaN         NaN  1043991.0   193406.0  40.697338   \n",
       "2            OTHER      NaN         NaN   999463.0   231690.0  40.802607   \n",
       "3  RESIDENCE-HOUSE      NaN         NaN  1060183.0   177862.0  40.654549   \n",
       "4            OTHER      NaN         NaN   987606.0   208148.0  40.738002   \n",
       "\n",
       "   Longitude                        Lat_Lon  \n",
       "0 -73.916661  (40.828848333, -73.916661142)  \n",
       "1 -73.784557  (40.697338138, -73.784556739)  \n",
       "2 -73.945052  (40.802606608, -73.945051911)  \n",
       "3 -73.726339  (40.654549444, -73.726338791)  \n",
       "4 -73.987891     (40.7380024, -73.98789129)  \n",
       "\n",
       "[5 rows x 24 columns]"
      ]
     },
     "execution_count": 1,
     "metadata": {},
     "output_type": "execute_result"
    }
   ],
   "source": [
    "import pandas as pd\n",
    "import numpy as np\n",
    "from pixiedust import display\n",
    "\n",
    "df_crime = pd.read_csv('data\\\\NYPD_Complaint_Data_Historic.csv')\n",
    "#display(df_crime, low_memory=False)\n",
    "df_crime.head()"
   ]
  },
  {
   "cell_type": "code",
   "execution_count": 2,
   "metadata": {
    "pixiedust": {
     "displayParams": {
      "handlerId": "tableView"
     }
    }
   },
   "outputs": [
    {
     "data": {
      "text/html": [
       "<div>\n",
       "<style scoped>\n",
       "    .dataframe tbody tr th:only-of-type {\n",
       "        vertical-align: middle;\n",
       "    }\n",
       "\n",
       "    .dataframe tbody tr th {\n",
       "        vertical-align: top;\n",
       "    }\n",
       "\n",
       "    .dataframe thead th {\n",
       "        text-align: right;\n",
       "    }\n",
       "</style>\n",
       "<table border=\"1\" class=\"dataframe\">\n",
       "  <thead>\n",
       "    <tr style=\"text-align: right;\">\n",
       "      <th></th>\n",
       "      <th>Age Group</th>\n",
       "      <th>Borough</th>\n",
       "      <th>1950</th>\n",
       "      <th>1950 - Boro share of NYC total</th>\n",
       "      <th>1960</th>\n",
       "      <th>1960 - Boro share of NYC total</th>\n",
       "      <th>1970</th>\n",
       "      <th>1970 - Boro share of NYC total</th>\n",
       "      <th>1980</th>\n",
       "      <th>1980 - Boro share of NYC total</th>\n",
       "      <th>...</th>\n",
       "      <th>2000</th>\n",
       "      <th>2000 - Boro share of NYC total</th>\n",
       "      <th>2010</th>\n",
       "      <th>2010 - Boro share of NYC total</th>\n",
       "      <th>2020</th>\n",
       "      <th>2020 - Boro share of NYC total</th>\n",
       "      <th>2030</th>\n",
       "      <th>2030 - Boro share of NYC total</th>\n",
       "      <th>2040</th>\n",
       "      <th>2040 - Boro share of NYC total</th>\n",
       "    </tr>\n",
       "  </thead>\n",
       "  <tbody>\n",
       "    <tr>\n",
       "      <th>0</th>\n",
       "      <td>Total Population</td>\n",
       "      <td>NYC Total</td>\n",
       "      <td>7,891,957</td>\n",
       "      <td>100%</td>\n",
       "      <td>7,781,984</td>\n",
       "      <td>100%</td>\n",
       "      <td>7,894,862</td>\n",
       "      <td>100%</td>\n",
       "      <td>7,071,639</td>\n",
       "      <td>100%</td>\n",
       "      <td>...</td>\n",
       "      <td>8,008,278</td>\n",
       "      <td>100%</td>\n",
       "      <td>8,242,624</td>\n",
       "      <td>100%</td>\n",
       "      <td>8,550,971</td>\n",
       "      <td>100%</td>\n",
       "      <td>8,821,027</td>\n",
       "      <td>100%</td>\n",
       "      <td>9,025,145</td>\n",
       "      <td>100%</td>\n",
       "    </tr>\n",
       "    <tr>\n",
       "      <th>1</th>\n",
       "      <td>Total Population</td>\n",
       "      <td>Bronx</td>\n",
       "      <td>1,451,277</td>\n",
       "      <td>18.39%</td>\n",
       "      <td>1,424,815</td>\n",
       "      <td>18.31%</td>\n",
       "      <td>1,471,701</td>\n",
       "      <td>18.64%</td>\n",
       "      <td>1,168,972</td>\n",
       "      <td>16.53%</td>\n",
       "      <td>...</td>\n",
       "      <td>1,332,650</td>\n",
       "      <td>16.64%</td>\n",
       "      <td>1,385,108</td>\n",
       "      <td>16.8%</td>\n",
       "      <td>1,446,788</td>\n",
       "      <td>16.92%</td>\n",
       "      <td>1,518,998</td>\n",
       "      <td>17.22%</td>\n",
       "      <td>1,579,245</td>\n",
       "      <td>17.5%</td>\n",
       "    </tr>\n",
       "    <tr>\n",
       "      <th>2</th>\n",
       "      <td>Total Population</td>\n",
       "      <td>Brooklyn</td>\n",
       "      <td>2,738,175</td>\n",
       "      <td>34.7%</td>\n",
       "      <td>2,627,319</td>\n",
       "      <td>33.76%</td>\n",
       "      <td>2,602,012</td>\n",
       "      <td>32.96%</td>\n",
       "      <td>2,230,936</td>\n",
       "      <td>31.55%</td>\n",
       "      <td>...</td>\n",
       "      <td>2,465,326</td>\n",
       "      <td>30.78%</td>\n",
       "      <td>2,552,911</td>\n",
       "      <td>30.97%</td>\n",
       "      <td>2,648,452</td>\n",
       "      <td>30.97%</td>\n",
       "      <td>2,754,009</td>\n",
       "      <td>31.22%</td>\n",
       "      <td>2,840,525</td>\n",
       "      <td>31.47%</td>\n",
       "    </tr>\n",
       "    <tr>\n",
       "      <th>3</th>\n",
       "      <td>Total Population</td>\n",
       "      <td>Manhattan</td>\n",
       "      <td>1,960,101</td>\n",
       "      <td>24.84%</td>\n",
       "      <td>1,698,281</td>\n",
       "      <td>21.82%</td>\n",
       "      <td>1,539,233</td>\n",
       "      <td>19.5%</td>\n",
       "      <td>1,428,285</td>\n",
       "      <td>20.2%</td>\n",
       "      <td>...</td>\n",
       "      <td>1,537,195</td>\n",
       "      <td>19.2%</td>\n",
       "      <td>1,585,873</td>\n",
       "      <td>19.24%</td>\n",
       "      <td>1,638,281</td>\n",
       "      <td>19.16%</td>\n",
       "      <td>1,676,720</td>\n",
       "      <td>19.01%</td>\n",
       "      <td>1,691,617</td>\n",
       "      <td>18.74%</td>\n",
       "    </tr>\n",
       "    <tr>\n",
       "      <th>4</th>\n",
       "      <td>Total Population</td>\n",
       "      <td>Queens</td>\n",
       "      <td>1,550,849</td>\n",
       "      <td>19.65%</td>\n",
       "      <td>1,809,578</td>\n",
       "      <td>23.25%</td>\n",
       "      <td>1,986,473</td>\n",
       "      <td>25.16%</td>\n",
       "      <td>1,891,325</td>\n",
       "      <td>26.75%</td>\n",
       "      <td>...</td>\n",
       "      <td>2,229,379</td>\n",
       "      <td>27.84%</td>\n",
       "      <td>2,250,002</td>\n",
       "      <td>27.3%</td>\n",
       "      <td>2,330,295</td>\n",
       "      <td>27.25%</td>\n",
       "      <td>2,373,551</td>\n",
       "      <td>26.91%</td>\n",
       "      <td>2,412,649</td>\n",
       "      <td>26.73%</td>\n",
       "    </tr>\n",
       "  </tbody>\n",
       "</table>\n",
       "<p>5 rows × 22 columns</p>\n",
       "</div>"
      ],
      "text/plain": [
       "          Age Group       Borough       1950 1950 - Boro share of NYC total  \\\n",
       "0  Total Population     NYC Total  7,891,957                           100%   \n",
       "1  Total Population         Bronx  1,451,277                         18.39%   \n",
       "2  Total Population      Brooklyn  2,738,175                          34.7%   \n",
       "3  Total Population     Manhattan  1,960,101                         24.84%   \n",
       "4  Total Population        Queens  1,550,849                         19.65%   \n",
       "\n",
       "        1960 1960 - Boro share of NYC total       1970  \\\n",
       "0  7,781,984                           100%  7,894,862   \n",
       "1  1,424,815                         18.31%  1,471,701   \n",
       "2  2,627,319                         33.76%  2,602,012   \n",
       "3  1,698,281                         21.82%  1,539,233   \n",
       "4  1,809,578                         23.25%  1,986,473   \n",
       "\n",
       "  1970 - Boro share of NYC total       1980 1980 - Boro share of NYC total  \\\n",
       "0                           100%  7,071,639                           100%   \n",
       "1                         18.64%  1,168,972                         16.53%   \n",
       "2                         32.96%  2,230,936                         31.55%   \n",
       "3                          19.5%  1,428,285                          20.2%   \n",
       "4                         25.16%  1,891,325                         26.75%   \n",
       "\n",
       "   ...       2000 2000 - Boro share of NYC total       2010  \\\n",
       "0  ...  8,008,278                           100%  8,242,624   \n",
       "1  ...  1,332,650                         16.64%  1,385,108   \n",
       "2  ...  2,465,326                         30.78%  2,552,911   \n",
       "3  ...  1,537,195                          19.2%  1,585,873   \n",
       "4  ...  2,229,379                         27.84%  2,250,002   \n",
       "\n",
       "  2010 - Boro share of NYC total       2020 2020 - Boro share of NYC total  \\\n",
       "0                           100%  8,550,971                           100%   \n",
       "1                          16.8%  1,446,788                         16.92%   \n",
       "2                         30.97%  2,648,452                         30.97%   \n",
       "3                         19.24%  1,638,281                         19.16%   \n",
       "4                          27.3%  2,330,295                         27.25%   \n",
       "\n",
       "        2030 2030 - Boro share of NYC total       2040  \\\n",
       "0  8,821,027                           100%  9,025,145   \n",
       "1  1,518,998                         17.22%  1,579,245   \n",
       "2  2,754,009                         31.22%  2,840,525   \n",
       "3  1,676,720                         19.01%  1,691,617   \n",
       "4  2,373,551                         26.91%  2,412,649   \n",
       "\n",
       "  2040 - Boro share of NYC total  \n",
       "0                           100%  \n",
       "1                          17.5%  \n",
       "2                         31.47%  \n",
       "3                         18.74%  \n",
       "4                         26.73%  \n",
       "\n",
       "[5 rows x 22 columns]"
      ]
     },
     "execution_count": 2,
     "metadata": {},
     "output_type": "execute_result"
    }
   ],
   "source": [
    "df_pop = pd.read_csv('data\\\\Population_by_Borough_NYC.csv')\n",
    "#display(df_pop)\n",
    "df_pop.head()"
   ]
  },
  {
   "cell_type": "markdown",
   "metadata": {},
   "source": [
    "## Initial Data Cleaning"
   ]
  },
  {
   "cell_type": "markdown",
   "metadata": {},
   "source": [
    "### Time Series\n",
    "Crime date and time"
   ]
  },
  {
   "cell_type": "code",
   "execution_count": 3,
   "metadata": {},
   "outputs": [
    {
     "data": {
      "text/html": [
       "<div>\n",
       "<style scoped>\n",
       "    .dataframe tbody tr th:only-of-type {\n",
       "        vertical-align: middle;\n",
       "    }\n",
       "\n",
       "    .dataframe tbody tr th {\n",
       "        vertical-align: top;\n",
       "    }\n",
       "\n",
       "    .dataframe thead th {\n",
       "        text-align: right;\n",
       "    }\n",
       "</style>\n",
       "<table border=\"1\" class=\"dataframe\">\n",
       "  <thead>\n",
       "    <tr style=\"text-align: right;\">\n",
       "      <th></th>\n",
       "      <th>date</th>\n",
       "      <th>time</th>\n",
       "    </tr>\n",
       "  </thead>\n",
       "  <tbody>\n",
       "    <tr>\n",
       "      <th>0</th>\n",
       "      <td>12/31/2015</td>\n",
       "      <td>23:45:00</td>\n",
       "    </tr>\n",
       "    <tr>\n",
       "      <th>1</th>\n",
       "      <td>12/31/2015</td>\n",
       "      <td>23:36:00</td>\n",
       "    </tr>\n",
       "    <tr>\n",
       "      <th>2</th>\n",
       "      <td>12/31/2015</td>\n",
       "      <td>23:30:00</td>\n",
       "    </tr>\n",
       "    <tr>\n",
       "      <th>3</th>\n",
       "      <td>12/31/2015</td>\n",
       "      <td>23:30:00</td>\n",
       "    </tr>\n",
       "    <tr>\n",
       "      <th>4</th>\n",
       "      <td>12/31/2015</td>\n",
       "      <td>23:25:00</td>\n",
       "    </tr>\n",
       "  </tbody>\n",
       "</table>\n",
       "</div>"
      ],
      "text/plain": [
       "         date      time\n",
       "0  12/31/2015  23:45:00\n",
       "1  12/31/2015  23:36:00\n",
       "2  12/31/2015  23:30:00\n",
       "3  12/31/2015  23:30:00\n",
       "4  12/31/2015  23:25:00"
      ]
     },
     "execution_count": 3,
     "metadata": {},
     "output_type": "execute_result"
    }
   ],
   "source": [
    "crime_datetime = df_crime[['CMPLNT_FR_DT','CMPLNT_FR_TM']]\n",
    "crime_datetime = crime_datetime.rename(columns={\"CMPLNT_FR_DT\": \"date\", \"CMPLNT_FR_TM\": \"time\"})\n",
    "crime_datetime.head()"
   ]
  },
  {
   "cell_type": "code",
   "execution_count": 4,
   "metadata": {},
   "outputs": [
    {
     "data": {
      "text/plain": [
       "date    65\n",
       "time     0\n",
       "dtype: int64"
      ]
     },
     "execution_count": 4,
     "metadata": {},
     "output_type": "execute_result"
    }
   ],
   "source": [
    "crime_datetime.isnull().sum()"
   ]
  },
  {
   "cell_type": "code",
   "execution_count": 5,
   "metadata": {},
   "outputs": [],
   "source": [
    "crime_datetime = crime_datetime.dropna(axis=0)"
   ]
  },
  {
   "cell_type": "markdown",
   "metadata": {},
   "source": [
    "Convert date and time to datetime series"
   ]
  },
  {
   "cell_type": "code",
   "execution_count": 6,
   "metadata": {},
   "outputs": [
    {
     "data": {
      "text/html": [
       "<div>\n",
       "<style scoped>\n",
       "    .dataframe tbody tr th:only-of-type {\n",
       "        vertical-align: middle;\n",
       "    }\n",
       "\n",
       "    .dataframe tbody tr th {\n",
       "        vertical-align: top;\n",
       "    }\n",
       "\n",
       "    .dataframe thead th {\n",
       "        text-align: right;\n",
       "    }\n",
       "</style>\n",
       "<table border=\"1\" class=\"dataframe\">\n",
       "  <thead>\n",
       "    <tr style=\"text-align: right;\">\n",
       "      <th></th>\n",
       "      <th>date</th>\n",
       "      <th>time</th>\n",
       "    </tr>\n",
       "  </thead>\n",
       "  <tbody>\n",
       "    <tr>\n",
       "      <th>0</th>\n",
       "      <td>2015-12-31</td>\n",
       "      <td>2020-10-09 23:45:00</td>\n",
       "    </tr>\n",
       "    <tr>\n",
       "      <th>1</th>\n",
       "      <td>2015-12-31</td>\n",
       "      <td>2020-10-09 23:36:00</td>\n",
       "    </tr>\n",
       "    <tr>\n",
       "      <th>2</th>\n",
       "      <td>2015-12-31</td>\n",
       "      <td>2020-10-09 23:30:00</td>\n",
       "    </tr>\n",
       "    <tr>\n",
       "      <th>3</th>\n",
       "      <td>2015-12-31</td>\n",
       "      <td>2020-10-09 23:30:00</td>\n",
       "    </tr>\n",
       "    <tr>\n",
       "      <th>4</th>\n",
       "      <td>2015-12-31</td>\n",
       "      <td>2020-10-09 23:25:00</td>\n",
       "    </tr>\n",
       "  </tbody>\n",
       "</table>\n",
       "</div>"
      ],
      "text/plain": [
       "        date                time\n",
       "0 2015-12-31 2020-10-09 23:45:00\n",
       "1 2015-12-31 2020-10-09 23:36:00\n",
       "2 2015-12-31 2020-10-09 23:30:00\n",
       "3 2015-12-31 2020-10-09 23:30:00\n",
       "4 2015-12-31 2020-10-09 23:25:00"
      ]
     },
     "execution_count": 6,
     "metadata": {},
     "output_type": "execute_result"
    }
   ],
   "source": [
    "crime_datetime['date'] = pd.to_datetime(crime_datetime['date'], format='%m/%d/%Y', errors='coerce')\n",
    "crime_datetime['time'] = pd.to_datetime(crime_datetime['time'])\n",
    "crime_datetime.head()"
   ]
  },
  {
   "cell_type": "code",
   "execution_count": 7,
   "metadata": {},
   "outputs": [
    {
     "name": "stdout",
     "output_type": "stream",
     "text": [
      "<class 'pandas.core.frame.DataFrame'>\n",
      "Int64Index: 1048510 entries, 0 to 1048574\n",
      "Data columns (total 2 columns):\n",
      " #   Column  Non-Null Count    Dtype         \n",
      "---  ------  --------------    -----         \n",
      " 0   date    1048503 non-null  datetime64[ns]\n",
      " 1   time    1048510 non-null  datetime64[ns]\n",
      "dtypes: datetime64[ns](2)\n",
      "memory usage: 24.0 MB\n"
     ]
    }
   ],
   "source": [
    "crime_datetime.info()"
   ]
  },
  {
   "cell_type": "markdown",
   "metadata": {},
   "source": [
    "Since there are over 1 million enteries, let's see check for and discard enteries we don't need"
   ]
  },
  {
   "cell_type": "code",
   "execution_count": 8,
   "metadata": {},
   "outputs": [
    {
     "data": {
      "text/plain": [
       "2014.0    490363\n",
       "2015.0    468576\n",
       "2013.0     86162\n",
       "2012.0      1229\n",
       "2011.0       578\n",
       "2010.0       357\n",
       "2009.0       242\n",
       "2008.0       218\n",
       "2006.0       139\n",
       "2007.0       135\n",
       "2004.0       107\n",
       "2005.0       100\n",
       "2001.0        49\n",
       "2003.0        46\n",
       "2002.0        43\n",
       "2000.0        25\n",
       "1999.0        13\n",
       "1997.0        13\n",
       "1914.0        10\n",
       "1995.0         8\n",
       "1993.0         8\n",
       "1992.0         8\n",
       "1996.0         7\n",
       "1915.0         7\n",
       "1986.0         4\n",
       "1974.0         4\n",
       "1975.0         4\n",
       "1989.0         4\n",
       "1998.0         4\n",
       "1990.0         4\n",
       "1913.0         3\n",
       "1979.0         3\n",
       "1994.0         3\n",
       "1991.0         3\n",
       "1987.0         2\n",
       "1982.0         2\n",
       "1988.0         2\n",
       "1965.0         2\n",
       "1955.0         2\n",
       "1954.0         1\n",
       "1930.0         1\n",
       "1941.0         1\n",
       "1945.0         1\n",
       "1950.0         1\n",
       "1969.0         1\n",
       "1958.0         1\n",
       "1971.0         1\n",
       "1973.0         1\n",
       "1977.0         1\n",
       "1978.0         1\n",
       "1980.0         1\n",
       "1981.0         1\n",
       "1910.0         1\n",
       "Name: date, dtype: int64"
      ]
     },
     "execution_count": 8,
     "metadata": {},
     "output_type": "execute_result"
    }
   ],
   "source": [
    "crime_datetime['date'].dt.year.value_counts()"
   ]
  },
  {
   "cell_type": "markdown",
   "metadata": {},
   "source": [
    "Around 90% of the entire entries are in 2014 and 2015. Lets discard other years."
   ]
  },
  {
   "cell_type": "code",
   "execution_count": 9,
   "metadata": {},
   "outputs": [
    {
     "data": {
      "text/html": [
       "<div>\n",
       "<style scoped>\n",
       "    .dataframe tbody tr th:only-of-type {\n",
       "        vertical-align: middle;\n",
       "    }\n",
       "\n",
       "    .dataframe tbody tr th {\n",
       "        vertical-align: top;\n",
       "    }\n",
       "\n",
       "    .dataframe thead th {\n",
       "        text-align: right;\n",
       "    }\n",
       "</style>\n",
       "<table border=\"1\" class=\"dataframe\">\n",
       "  <thead>\n",
       "    <tr style=\"text-align: right;\">\n",
       "      <th></th>\n",
       "      <th>date</th>\n",
       "      <th>time</th>\n",
       "    </tr>\n",
       "  </thead>\n",
       "  <tbody>\n",
       "    <tr>\n",
       "      <th>0</th>\n",
       "      <td>2015-12-31</td>\n",
       "      <td>2020-10-09 23:45:00</td>\n",
       "    </tr>\n",
       "    <tr>\n",
       "      <th>1</th>\n",
       "      <td>2015-12-31</td>\n",
       "      <td>2020-10-09 23:36:00</td>\n",
       "    </tr>\n",
       "    <tr>\n",
       "      <th>2</th>\n",
       "      <td>2015-12-31</td>\n",
       "      <td>2020-10-09 23:30:00</td>\n",
       "    </tr>\n",
       "    <tr>\n",
       "      <th>3</th>\n",
       "      <td>2015-12-31</td>\n",
       "      <td>2020-10-09 23:30:00</td>\n",
       "    </tr>\n",
       "    <tr>\n",
       "      <th>4</th>\n",
       "      <td>2015-12-31</td>\n",
       "      <td>2020-10-09 23:25:00</td>\n",
       "    </tr>\n",
       "    <tr>\n",
       "      <th>...</th>\n",
       "      <td>...</td>\n",
       "      <td>...</td>\n",
       "    </tr>\n",
       "    <tr>\n",
       "      <th>958934</th>\n",
       "      <td>2014-01-01</td>\n",
       "      <td>2020-10-09 00:01:00</td>\n",
       "    </tr>\n",
       "    <tr>\n",
       "      <th>958935</th>\n",
       "      <td>2014-01-01</td>\n",
       "      <td>2020-10-09 00:00:00</td>\n",
       "    </tr>\n",
       "    <tr>\n",
       "      <th>958936</th>\n",
       "      <td>2014-01-01</td>\n",
       "      <td>2020-10-09 00:00:00</td>\n",
       "    </tr>\n",
       "    <tr>\n",
       "      <th>958937</th>\n",
       "      <td>2014-01-01</td>\n",
       "      <td>2020-10-09 00:00:00</td>\n",
       "    </tr>\n",
       "    <tr>\n",
       "      <th>958938</th>\n",
       "      <td>2014-01-01</td>\n",
       "      <td>2020-10-09 00:00:00</td>\n",
       "    </tr>\n",
       "  </tbody>\n",
       "</table>\n",
       "<p>958939 rows × 2 columns</p>\n",
       "</div>"
      ],
      "text/plain": [
       "             date                time\n",
       "0      2015-12-31 2020-10-09 23:45:00\n",
       "1      2015-12-31 2020-10-09 23:36:00\n",
       "2      2015-12-31 2020-10-09 23:30:00\n",
       "3      2015-12-31 2020-10-09 23:30:00\n",
       "4      2015-12-31 2020-10-09 23:25:00\n",
       "...           ...                 ...\n",
       "958934 2014-01-01 2020-10-09 00:01:00\n",
       "958935 2014-01-01 2020-10-09 00:00:00\n",
       "958936 2014-01-01 2020-10-09 00:00:00\n",
       "958937 2014-01-01 2020-10-09 00:00:00\n",
       "958938 2014-01-01 2020-10-09 00:00:00\n",
       "\n",
       "[958939 rows x 2 columns]"
      ]
     },
     "execution_count": 9,
     "metadata": {},
     "output_type": "execute_result"
    }
   ],
   "source": [
    "indices = ((crime_datetime['date'].dt.year == 2014)|(crime_datetime['date'].dt.year == 2015))\n",
    "slctd_data = crime_datetime[indices].reset_index(drop=True)\n",
    "slctd_data"
   ]
  },
  {
   "cell_type": "markdown",
   "metadata": {},
   "source": [
    "We now have just under 1 million entries from Jan 1 2014 to Dec 31 2015"
   ]
  },
  {
   "cell_type": "markdown",
   "metadata": {},
   "source": [
    "## Visuals"
   ]
  },
  {
   "cell_type": "code",
   "execution_count": 17,
   "metadata": {},
   "outputs": [],
   "source": [
    "import numpy as np\n",
    "import seaborn as sns\n",
    "import matplotlib.pyplot as plt"
   ]
  },
  {
   "cell_type": "markdown",
   "metadata": {},
   "source": [
    "#### Crime by year"
   ]
  },
  {
   "cell_type": "code",
   "execution_count": 26,
   "metadata": {},
   "outputs": [
    {
     "data": {
      "image/png": "[encoded data removed]",
      "text/plain": [
       "<Figure size 432x288 with 1 Axes>"
      ]
     },
     "metadata": {
      "needs_background": "light"
     },
     "output_type": "display_data"
    }
   ],
   "source": [
    "by_year = slctd_data['date'].dt.year.value_counts().to_frame()\n",
    "sns.barplot(x=by_year.index,y='date',data=by_year)\n",
    "plt.xlabel('Year')\n",
    "plt.ylabel('No of complaints')\n",
    "plt.show()"
   ]
  },
  {
   "cell_type": "markdown",
   "metadata": {},
   "source": [
    "Remove unwanted entries in original dataset"
   ]
  },
  {
   "cell_type": "code",
   "execution_count": 15,
   "metadata": {},
   "outputs": [],
   "source": [
    "df_crime = df_crime.dropna(subset=['CMPLNT_FR_DT'],axis=0)\n",
    "df_crime = df_crime[indices]"
   ]
  },
  {
   "cell_type": "markdown",
   "metadata": {},
   "source": [
    "#### Crime by Borough"
   ]
  },
  {
   "cell_type": "code",
   "execution_count": 19,
   "metadata": {},
   "outputs": [
    {
     "data": {
      "image/png": "[encoded data removed]",
      "text/plain": [
       "<Figure size 900x720 with 3 Axes>"
      ]
     },
     "metadata": {
      "needs_background": "light"
     },
     "output_type": "display_data"
    }
   ],
   "source": [
    "data_by_boro = df_crime['BORO_NM'].value_counts().to_frame().reset_index()\n",
    "data_by_boro = data_by_boro.sort_values(by=['index']).reset_index(drop=True)\n",
    "\n",
    "pop = df_pop[['Borough','2010']].iloc[1:]\n",
    "pop['2010'] = pop['2010'].map(lambda x: int(x.replace(',','')))\n",
    "\n",
    "crime_per_capita = pop.drop('2010',axis=1)\n",
    "crime_per_capita['Per_capita'] = data_by_boro['BORO_NM'].values/pop['2010'].values\n",
    "\n",
    "plt.figure(figsize=(15,12),dpi = 60)\n",
    "plt.subplot(221); sns.barplot(x='index',y='BORO_NM',data=data_by_boro)\n",
    "plt.title('Total Crime Complaints by Borough (2014-2015)')\n",
    "plt.subplot(222); sns.barplot(x='Borough',y='2010',data=pop)\n",
    "plt.title('2010 Population Borough')\n",
    "plt.subplot(223); sns.barplot(x='Borough',y='Per_capita',data=crime_per_capita)\n",
    "plt.title('Crime Per Capita')\n",
    "plt.show()"
   ]
  },
  {
   "cell_type": "markdown",
   "metadata": {},
   "source": [
    "#### Crime by month"
   ]
  },
  {
   "cell_type": "code",
   "execution_count": 47,
   "metadata": {},
   "outputs": [
    {
     "data": {
      "text/plain": [
       "<matplotlib.axes._subplots.AxesSubplot at 0x20b9e341ac8>"
      ]
     },
     "execution_count": 47,
     "metadata": {},
     "output_type": "execute_result"
    },
    {
     "data": {
      "image/png": "[encoded data removed]",
      "text/plain": [
       "<Figure size 432x288 with 1 Axes>"
      ]
     },
     "metadata": {
      "needs_background": "light"
     },
     "output_type": "display_data"
    }
   ],
   "source": [
    "temp_df = slctd_data.copy()\n",
    "temp_df['count'] = [1]*len(slctd_data)\n",
    "by_month = temp_df[['date','count']].groupby(pd.Grouper(key='date',freq='M')).sum()\n",
    "by_month.plot(kind='line')"
   ]
  },
  {
   "cell_type": "markdown",
   "metadata": {},
   "source": [
    "#### Crime by time"
   ]
  },
  {
   "cell_type": "code",
   "execution_count": 73,
   "metadata": {},
   "outputs": [
    {
     "data": {
      "text/plain": [
       "Text(0.5, 0, 'time of the day (hrs)')"
      ]
     },
     "execution_count": 73,
     "metadata": {},
     "output_type": "execute_result"
    },
    {
     "data": {
      "image/png": "[encoded data removed]",
      "text/plain": [
       "<Figure size 432x288 with 1 Axes>"
      ]
     },
     "metadata": {
      "needs_background": "light"
     },
     "output_type": "display_data"
    },
    {
     "data": {
      "image/png": "[encoded data removed]",
      "text/plain": [
       "<Figure size 432x288 with 1 Axes>"
      ]
     },
     "metadata": {
      "needs_background": "light"
     },
     "output_type": "display_data"
    }
   ],
   "source": [
    "day_and_night = ((slctd_data['time'].dt.hour >= 7)&((slctd_data['time'].dt.hour <= 19))).value_counts().to_frame()\n",
    "day_and_night.index = pd.Index(['day','night'],name='time')\n",
    "day_and_night = day_and_night.rename(columns={'time':'No_of_complaints'})\n",
    "sns.barplot(x=day_and_night.index,y='No_of_complaints',data=day_and_night)\n",
    "\n",
    "by_hour = slctd_data['time'].dt.hour.value_counts(sort=False).to_frame()\n",
    "by_hour = by_hour.rename(columns={'time':'No_of_complaints'})\n",
    "by_hour.plot(kind='bar')\n",
    "plt.xlabel('time of the day (hrs)')"
   ]
  },
  {
   "cell_type": "markdown",
   "metadata": {},
   "source": [
    "#### Crime by Category"
   ]
  },
  {
   "cell_type": "code",
   "execution_count": 99,
   "metadata": {},
   "outputs": [
    {
     "data": {
      "text/plain": [
       "<matplotlib.axes._subplots.AxesSubplot at 0x20b9ddb7358>"
      ]
     },
     "execution_count": 99,
     "metadata": {},
     "output_type": "execute_result"
    },
    {
     "data": {
      "image/png": "[encoded data removed]",
      "text/plain": [
       "<Figure size 576x576 with 1 Axes>"
      ]
     },
     "metadata": {},
     "output_type": "display_data"
    }
   ],
   "source": [
    "by_cat = df_crime['LAW_CAT_CD'].value_counts().to_frame()\n",
    "by_cat.plot(kind='pie',y='LAW_CAT_CD',figsize=(8,8), shadow=True)"
   ]
  },
  {
   "cell_type": "markdown",
   "metadata": {},
   "source": [
    "#### By offence description"
   ]
  },
  {
   "cell_type": "code",
   "execution_count": 92,
   "metadata": {},
   "outputs": [
    {
     "data": {
      "image/png": "[encoded data removed]",
      "text/plain": [
       "<Figure size 720x480 with 1 Axes>"
      ]
     },
     "metadata": {
      "needs_background": "light"
     },
     "output_type": "display_data"
    }
   ],
   "source": [
    "by_desc = df_crime['OFNS_DESC'].value_counts().to_frame().rename(columns={'OFNS_DESC':'No_of_complaints'})\n",
    "to_plot = by_desc.head(20)\n",
    "plt.figure(figsize=(12,8),dpi=60)\n",
    "sns.barplot(x=to_plot.index,y='No_of_complaints',data=to_plot)\n",
    "plt.xticks(rotation=90)\n",
    "plt.title('20 Most Reported Offences')\n",
    "plt.show()"
   ]
  },
  {
   "cell_type": "code",
   "execution_count": 91,
   "metadata": {},
   "outputs": [
    {
     "data": {
      "image/png": "[encoded data removed]",
      "text/plain": [
       "<Figure size 720x480 with 1 Axes>"
      ]
     },
     "metadata": {
      "needs_background": "light"
     },
     "output_type": "display_data"
    }
   ],
   "source": [
    "to_plot2 = by_desc.tail(20)\n",
    "plt.figure(figsize=(12,8),dpi=60)\n",
    "sns.barplot(x=to_plot2.index,y='No_of_complaints',data=to_plot2)\n",
    "plt.xticks(rotation=90)\n",
    "plt.title('20 Least Reported Offences')\n",
    "plt.show()"
   ]
  },
  {
   "cell_type": "code",
   "execution_count": null,
   "metadata": {},
   "outputs": [],
   "source": []
  }
 ],
 "metadata": {
  "kernelspec": {
   "display_name": "Python 3",
   "language": "python",
   "name": "python3"
  },
  "language_info": {
   "codemirror_mode": {
    "name": "ipython",
    "version": 3
   },
   "file_extension": ".py",
   "mimetype": "text/x-python",
   "name": "python",
   "nbconvert_exporter": "python",
   "pygments_lexer": "ipython3",
   "version": "3.6.5"
  }
 },
 "nbformat": 4,
 "nbformat_minor": 4
}
