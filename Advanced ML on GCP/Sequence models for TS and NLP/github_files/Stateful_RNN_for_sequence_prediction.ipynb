{
  "nbformat": 4,
  "nbformat_minor": 0,
  "metadata": {
    "colab": {
      "name": "01_Keras_stateful_RNN_playground.ipynb",
      "provenance": [],
      "collapsed_sections": [],
      "toc_visible": true
    },
    "kernelspec": {
      "name": "python3",
      "display_name": "Python 3"
    },
    "accelerator": "GPU"
  },
  "cells": [
    {
      "cell_type": "markdown",
      "metadata": {
        "id": "RH-br21Mfg83",
        "colab_type": "text"
      },
      "source": [
        "# An stateful RNN model to generate sequences\n",
        "RNN models can generate long sequences based on past data. This can be used to predict stock markets, temperatures, traffic or sales data based on past patterns. They can also be adapted to [generate text](https://docs.google.com/presentation/d/18MiZndRCOxB7g-TcCl2EZOElS5udVaCuxnGznLnmOlE/pub?slide=id.g139650d17f_0_1185). The quality of the prediction will depend on training data, network architecture, hyperparameters, the distance in time at which you are predicting and so on. But most importantly, it will depend on wether your training data contains examples of the behaviour patterns you are trying to predict."
      ]
    },
    {
      "cell_type": "code",
      "metadata": {
        "id": "9l96vOsPfg84",
        "colab_type": "code",
        "colab": {
          "base_uri": "https://localhost:8080/",
          "height": 34
        },
        "outputId": "acdf8c9b-9de8-4926-db0e-dcea670d5080"
      },
      "source": [
        "# using Tensorflow 2\n",
        "%tensorflow_version 2.x\n",
        "import math\n",
        "import numpy as np\n",
        "from matplotlib import pyplot as plt\n",
        "import tensorflow as tf\n",
        "print(\"Tensorflow version: \" + tf.__version__)"
      ],
      "execution_count": null,
      "outputs": [
        {
          "output_type": "stream",
          "text": [
            "Tensorflow version: 2.0.0\n"
          ],
          "name": "stdout"
        }
      ]
    },
    {
      "cell_type": "code",
      "metadata": {
        "id": "gxJ60M-4ilJy",
        "colab_type": "code",
        "cellView": "form",
        "colab": {}
      },
      "source": [
        "#@title Data formatting and display utilites [RUN ME]\n",
        "\n",
        "def dumb_minibatch_sequencer(data, batch_size, sequence_size, nb_epochs):\n",
        "    \"\"\"\n",
        "    Divides the data into batches of sequences in the simplest way: sequentially.\n",
        "    :param data: the training sequence\n",
        "    :param batch_size: the size of a training minibatch\n",
        "    :param sequence_size: the unroll size of the RNN\n",
        "    :param nb_epochs: number of epochs to train on\n",
        "    :return:\n",
        "        x: one batch of training sequences\n",
        "        y: one batch of target sequences, i.e. training sequences shifted by 1\n",
        "    \"\"\"\n",
        "    data_len = data.shape[0]\n",
        "    nb_batches = data_len // (batch_size * sequence_size)\n",
        "    rounded_size = nb_batches * batch_size * sequence_size\n",
        "    xdata = data[:rounded_size]\n",
        "    ydata = np.roll(data, -1)[:rounded_size]\n",
        "    xdata = np.reshape(xdata, [nb_batches, batch_size, sequence_size])\n",
        "    ydata = np.reshape(ydata, [nb_batches, batch_size, sequence_size])\n",
        "\n",
        "    for epoch in range(nb_epochs):\n",
        "        for batch in range(nb_batches):\n",
        "            yield xdata[batch,:,:], ydata[batch,:,:]\n",
        "            \n",
        "            \n",
        "def rnn_minibatch_sequencer(data, batch_size, sequence_size, nb_epochs):\n",
        "    \"\"\"\n",
        "    Divides the data into batches of sequences so that all the sequences in one batch\n",
        "    continue in the next batch. This is a generator that will keep returning batches\n",
        "    until the input data has been seen nb_epochs times. Sequences are continued even\n",
        "    between epochs, apart from one, the one corresponding to the end of data.\n",
        "    The remainder at the end of data that does not fit in an full batch is ignored.\n",
        "    :param data: the training sequence\n",
        "    :param batch_size: the size of a training minibatch\n",
        "    :param sequence_size: the unroll size of the RNN\n",
        "    :param nb_epochs: number of epochs to train on\n",
        "    :return:\n",
        "        x: one batch of training sequences\n",
        "        y: one batch of target sequences, i.e. training sequences shifted by 1\n",
        "    \"\"\"\n",
        "    data_len = data.shape[0]\n",
        "    # using (data_len-1) because we must provide for the sequence shifted by 1 too\n",
        "    nb_batches = (data_len - 1) // (batch_size * sequence_size)\n",
        "    assert nb_batches > 0, \"Not enough data, even for a single batch. Try using a smaller batch_size.\"\n",
        "    rounded_data_len = nb_batches * batch_size * sequence_size\n",
        "    xdata = np.reshape(data[0:rounded_data_len], [batch_size, nb_batches * sequence_size])\n",
        "    ydata = np.reshape(data[1:rounded_data_len + 1], [batch_size, nb_batches * sequence_size])\n",
        "\n",
        "    whole_epochs = math.floor(nb_epochs)\n",
        "    frac_epoch = nb_epochs - whole_epochs\n",
        "    last_nb_batch = math.floor(frac_epoch * nb_batches)\n",
        "    \n",
        "    for epoch in range(whole_epochs+1):\n",
        "        for batch in range(nb_batches if epoch < whole_epochs else last_nb_batch):\n",
        "            x = xdata[:, batch * sequence_size:(batch + 1) * sequence_size]\n",
        "            y = ydata[:, batch * sequence_size:(batch + 1) * sequence_size]\n",
        "            x = np.roll(x, -epoch, axis=0)  # to continue the sequence from epoch to epoch (do not reset rnn state!)\n",
        "            y = np.roll(y, -epoch, axis=0)\n",
        "            yield x, y\n",
        "            \n",
        "\n",
        "plt.rcParams['figure.figsize']=(16.8,6.0)\n",
        "plt.rcParams['axes.grid']=True\n",
        "plt.rcParams['axes.linewidth']=0\n",
        "plt.rcParams['grid.color']='#DDDDDD'\n",
        "plt.rcParams['axes.facecolor']='white'\n",
        "plt.rcParams['xtick.major.size']=0\n",
        "plt.rcParams['ytick.major.size']=0\n",
        "plt.rcParams['axes.titlesize']=15.0\n",
        "\n",
        "\n",
        "def display_lr(lr_schedule, nb_epochs):\n",
        "  x = np.arange(nb_epochs)\n",
        "  y = [lr_schedule(i) for i in x]\n",
        "  plt.figure(figsize=(9,5))\n",
        "  plt.plot(x,y)\n",
        "  plt.title(\"Learning rate schedule\\nmax={:.2e}, min={:.2e}\".format(np.max(y), np.min(y)),\n",
        "            y=0.85)\n",
        "  plt.show()\n",
        "  \n",
        "def display_loss(history, full_history, nb_epochs):\n",
        "  plt.figure()\n",
        "  plt.plot(np.arange(0, len(full_history['loss']))/steps_per_epoch, full_history['loss'], label='detailed loss')\n",
        "  plt.plot(np.arange(1, nb_epochs+1), history['loss'], color='red', linewidth=3, label='average loss per epoch')\n",
        "  plt.ylim(0,3*max(history['loss'][1:]))\n",
        "  plt.xlabel('EPOCH')\n",
        "  plt.ylabel('LOSS')\n",
        "  plt.xlim(0, nb_epochs+0.5)\n",
        "  plt.legend()\n",
        "  for epoch in range(nb_epochs//2+1):\n",
        "    plt.gca().axvspan(2*epoch, 2*epoch+1, alpha=0.05, color='grey')\n",
        "  plt.show()\n",
        "\n",
        "def picture_this_7(features):\n",
        "    subplot = 231\n",
        "    for i in range(6):\n",
        "        plt.subplot(subplot)\n",
        "        plt.plot(features[i])\n",
        "        subplot += 1\n",
        "    plt.show()\n",
        "    \n",
        "def picture_this_8(data, prime_data, results, offset, primelen, runlen, rmselen):\n",
        "    disp_data = data[offset:offset+primelen+runlen]\n",
        "    colors = plt.rcParams['axes.prop_cycle'].by_key()['color']\n",
        "    plt.subplot(211)\n",
        "    plt.xlim(0, disp_data.shape[0])\n",
        "    plt.text(primelen,2.5,\"DATA |\", color=colors[1], horizontalalignment=\"right\")\n",
        "    plt.text(primelen,2.5,\"| PREDICTED\", color=colors[0], horizontalalignment=\"left\")\n",
        "    displayresults = np.ma.array(np.concatenate((np.zeros([primelen]), results)))\n",
        "    displayresults = np.ma.masked_where(displayresults == 0, displayresults)\n",
        "    plt.plot(displayresults)\n",
        "    displaydata = np.ma.array(np.concatenate((prime_data, np.zeros([runlen]))))\n",
        "    displaydata = np.ma.masked_where(displaydata == 0, displaydata)\n",
        "    plt.plot(displaydata)\n",
        "    plt.subplot(212)\n",
        "    plt.xlim(0, disp_data.shape[0])\n",
        "    plt.text(primelen,2.5,\"DATA |\", color=colors[1], horizontalalignment=\"right\")\n",
        "    plt.text(primelen,2.5,\"| +PREDICTED\", color=colors[0], horizontalalignment=\"left\")\n",
        "    plt.plot(displayresults)\n",
        "    plt.plot(disp_data)\n",
        "    plt.axvspan(primelen, primelen+rmselen, color='grey', alpha=0.1, ymin=0.05, ymax=0.95)\n",
        "    plt.show()\n",
        "\n",
        "    rmse = math.sqrt(np.mean((data[offset+primelen:offset+primelen+rmselen] - results[:rmselen])**2))\n",
        "    print(\"RMSE on {} predictions (shaded area): {}\".format(rmselen, rmse))"
      ],
      "execution_count": null,
      "outputs": []
    },
    {
      "cell_type": "markdown",
      "metadata": {
        "id": "ouNkUJLBfg89",
        "colab_type": "text"
      },
      "source": [
        "## Generate fake dataset [WORK REQUIRED]\n",
        " * Pick a wavewform below: 0, 1 or 2. This will be your dataset."
      ]
    },
    {
      "cell_type": "code",
      "metadata": {
        "id": "QLTqiqjSfg8-",
        "colab_type": "code",
        "colab": {
          "base_uri": "https://localhost:8080/",
          "height": 373
        },
        "outputId": "9a3fa26d-5d96-422d-e8cc-31d250f7e627"
      },
      "source": [
        "WAVEFORM_SELECT = 0 # select 0, 1 or 2\n",
        "\n",
        "def create_time_series(datalen):\n",
        "    # good waveforms\n",
        "    frequencies = [(0.2, 0.15), (0.35, 0.3), (0.6, 0.55)]\n",
        "    freq1, freq2 = frequencies[WAVEFORM_SELECT]\n",
        "    noise = [np.random.random()*0.1 for i in range(datalen)]\n",
        "    x1 = np.sin(np.arange(0,datalen) * freq1)  + noise\n",
        "    x2 = np.sin(np.arange(0,datalen) * freq2)  + noise\n",
        "    x = x1 + x2\n",
        "    return x.astype(np.float32)\n",
        "\n",
        "DATA_LEN = 1024*128+1\n",
        "data = create_time_series(DATA_LEN)\n",
        "plt.plot(data[:512])\n",
        "plt.show()"
      ],
      "execution_count": null,
      "outputs": [
        {
          "output_type": "display_data",
          "data": {
            "image/png": "[encoded data removed]",
            "text/plain": [
              "<Figure size 1209.6x432 with 1 Axes>"
            ]
          },
          "metadata": {
            "tags": []
          }
        }
      ]
    },
    {
      "cell_type": "markdown",
      "metadata": {
        "id": "YyjwHUwZfg9B",
        "colab_type": "text"
      },
      "source": [
        "## Hyperparameters"
      ]
    },
    {
      "cell_type": "code",
      "metadata": {
        "id": "-gp8Qw-6fg9C",
        "colab_type": "code",
        "colab": {}
      },
      "source": [
        "RNN_CELLSIZE = 80 # size of the RNN cells\n",
        "SEQLEN = 32       # unrolled sequence length\n",
        "BATCHSIZE = 30    # mini-batch size\n",
        "DROPOUT = 0.3     # dropout regularization: probability of neurons being dropped. Should be between 0 and 0.5"
      ],
      "execution_count": null,
      "outputs": []
    },
    {
      "cell_type": "markdown",
      "metadata": {
        "id": "WbsuSalyfg9E",
        "colab_type": "text"
      },
      "source": [
        "## Visualize training sequences\n",
        "This is what the neural network will see during training."
      ]
    },
    {
      "cell_type": "code",
      "metadata": {
        "id": "kYk8zx6jfg9F",
        "colab_type": "code",
        "colab": {}
      },
      "source": [
        "# The function dumb_minibatch_sequencer splits the data into batches of sequences sequentially.\n",
        "for features, labels in dumb_minibatch_sequencer(data, BATCHSIZE, SEQLEN, nb_epochs=1):\n",
        "    break\n",
        "print(\"Features shape: \" + str(features.shape))\n",
        "print(\"Labels shape: \" + str(labels.shape))\n",
        "print(\"Excerpt from first batch:\")\n",
        "\n",
        "picture_this_7(features)"
      ],
      "execution_count": null,
      "outputs": []
    },
    {
      "cell_type": "markdown",
      "metadata": {
        "id": "8PB4I6Qafg9H",
        "colab_type": "text"
      },
      "source": [
        "## The model [WORK REQUIRED]\n",
        "This time we want to train a \"stateful\" RNN model, one that runs like a state machine with an internal state updated every time an input is processed. Stateful models are typically trained (unrolled) to predict the next element in a sequence, then used in a loop (without unrolling) to generate a sequence.\n",
        "\n",
        "1. This model needs more compute power. Let's use GPU acceleration.<br/>\n",
        "Go to Runtime > Runtime Type and check that \"GPU\" is selected.\n",
        "1. Locate the inference function keras_prediction_run() below and check that at its core, it runs the model in a loop, piping outputs into inputs and output state into input state:<br/>\n",
        "```\n",
        "for i in range(n):\n",
        "    Yout = model.predict(Yout)\n",
        "```\n",
        "Notice that the output is passed around in the input explicitly. In Keras, the output state is passed around as the next input state automatically if RNN layers are declared with stateful=True\n",
        "1. Run the whole notebook as it is, with a dummy model that always predicts 1. Check that everything \"works\".\n",
        "1. Now implement a one layer RNN model:\n",
        " * Use stateful GRU cells [`tf.keras.layers.GRU(RNN_CELLSIZE, stateful=True, return_sequences=True)`](https://www.tensorflow.org/api_docs/python/tf/keras/layers/GRU).\n",
        " * Make sure they all return full sequences with  [`return_sequences=True`](https://www.tensorflow.org/api_docs/python/tf/keras/layers/GRU). The model should output a full sequence of length SEQLEN. The target is the input sequence shifted by one, effectively teaching the RNN to predict the next element of a sequence.\n",
        " * Do not forget to replicate the regression redout layer across all time steps with [`tf.keras.layers.TimeDistributed(tf.keras.layers.Dense(1))`](https://www.tensorflow.org/api_docs/python/tf/keras/layers/TimeDistributed)\n",
        " * In Keras, stateful RNNs must be defined for a fixed batch size ([documentation](https://keras.io/getting-started/faq/#how-can-i-use-stateful-rnns)). On the first layer, in addition to input_shape, please specify batch_size=batchsize\n",
        " * Adjust shapes as needed with  [`Reshape`](https://www.tensorflow.org/api_docs/python/tf/keras/layers/Reshape) layers. Pen, paper and fresh brain cells <font size=\"+2\">🤯</font> still useful to follow the shapes. The shapes of inputs (a.k.a. \"features\") and targets (a.k.a. \"labels\") are displayed in the cell above this text.\n",
        "1. Add a second RNN layer.\n",
        " * The predictions might be starting to look good but the loss curve is pretty noisy.\n",
        "1. If we want to do stateful RNNs \"by the book\", training data should be arranged in batches in a special way so that RNN states after one batch are the correct input states for the sequences in the next batch (see [this illustration](https://docs.google.com/presentation/d/18MiZndRCOxB7g-TcCl2EZOElS5udVaCuxnGznLnmOlE/edit#slide=id.g139650d17f_0_584)). Correct data batching is already implemented: just use the rnn_minibatch_sequencer function in the training loop instead of dumb_minibatch_sequencer.\n",
        " * This should clean up the loss curve and improve predictions.\n",
        "1. Finally, add a learning rate schedule. In Keras, this is also done through a callback. Edit lr_schedule below and swap the constant learning rate for a decaying one (just uncomment it).\n",
        " * Now the RNN should be able to continue your curve accurately.\n",
        "1. (Optional) To do things really \"by the book\", shouldn't states also be reset when sequences are no longer continuous between batches, i.e. at every epoch? The reset_state callback defined below does that. Add it to the list of callbacks in model.fit and test.\n",
        " * It actually makes things slightly worse... Looking at the loss should tell you why: a zero state generates a much bigger loss at the start of each epoch than the state from the previous epoch. Both are incorrect but one is much worse.\n",
        "1. (Optional) You can also add dropout regularization. Try dropout=DROPOUT on both your RNN layers.\n",
        " * Aaaarg 😫what happened ?\n",
        "1. (Optional) In Keras RNN layers, the dropout parameter is an input dropout. In the first RNN layer, you are dropping your input data ! That does not make sense. Remove the dropout from your first RNN layer. With dropout, you might need to train for longer. Try 10 epochs.\n",
        "\n",
        "\n",
        "![deep RNN schematic](https://googlecloudplatform.github.io/tensorflow-without-a-phd/docs/images/RNN1.svg)\n",
        "<div style=\"text-align: right; font-family: monospace\">\n",
        "  X shape [BATCHSIZE, SEQLEN, 1]<br/>\n",
        "  Y shape [BATCHSIZE, SEQLEN, 1]<br/>\n",
        "  H shape [BATCHSIZE, RNN_CELLSIZE*NLAYERS]\n",
        "</div>\n",
        "In Keras layers, the batch dimension is implicit ! For a shape of [BATCHSIZE, SEQLEN, 1], you write [SEQLEN, 1]. In pure Tensorflow however, this is NOT the case."
      ]
    },
    {
      "cell_type": "code",
      "metadata": {
        "id": "9ga_jncykosN",
        "colab_type": "code",
        "colab": {}
      },
      "source": [
        "def keras_model(batchsize, seqlen):\n",
        "\n",
        "  model = tf.keras.Sequential([\n",
        "      #\n",
        "      # YOUR MODEL HERE\n",
        "      # This is a dummy model that always predicts 1\n",
        "      #\n",
        "      tf.keras.layers.Lambda(lambda x: tf.ones([batchsize,seqlen]), input_shape=[seqlen,])\n",
        "  ])\n",
        "  \n",
        "  # to finalize the model, specify the loss, the optimizer and metrics\n",
        "  model.compile(\n",
        "     loss = 'mean_squared_error',\n",
        "     optimizer = 'adam',\n",
        "     metrics = ['RootMeanSquaredError'])\n",
        "  \n",
        "  return model"
      ],
      "execution_count": null,
      "outputs": []
    },
    {
      "cell_type": "code",
      "metadata": {
        "id": "8311WBkinlGp",
        "colab_type": "code",
        "colab": {}
      },
      "source": [
        "# Keras model callbacks\n",
        "\n",
        "# This callback records a per-step loss history instead of the average loss per\n",
        "# epoch that Keras normally reports. It allows you to see more problems.\n",
        "class LossHistory(tf.keras.callbacks.Callback):\n",
        "  def on_train_begin(self, logs={}):\n",
        "      self.history = {'loss': []}\n",
        "  def on_batch_end(self, batch, logs={}):\n",
        "      self.history['loss'].append(logs.get('loss'))\n",
        "      \n",
        "# This callback resets the RNN state at each epoch\n",
        "class ResetStateCallback(tf.keras.callbacks.Callback):\n",
        "  def on_epoch_begin(self, batch, logs={}):\n",
        "      self.model.reset_states()\n",
        "      print('reset state')\n",
        "\n",
        "reset_state = ResetStateCallback()\n",
        "      \n",
        "# learning rate decay callback\n",
        "def lr_schedule(epoch): return 0.01\n",
        "#def lr_schedule(epoch): return 0.0001 + 0.01 * math.pow(0.65, epoch)\n",
        "lr_decay = tf.keras.callbacks.LearningRateScheduler(lr_schedule, verbose=True)\n"
      ],
      "execution_count": null,
      "outputs": []
    },
    {
      "cell_type": "markdown",
      "metadata": {
        "id": "XlKtnYjbfg9V",
        "colab_type": "text"
      },
      "source": [
        "## The training loop"
      ]
    },
    {
      "cell_type": "code",
      "metadata": {
        "id": "Tcrj-e50yyuM",
        "colab_type": "code",
        "colab": {
          "base_uri": "https://localhost:8080/",
          "height": 486
        },
        "outputId": "50369ea8-0702-4757-bc07-418ee7e07398"
      },
      "source": [
        "# Execute this cell to reset the model\n",
        "\n",
        "NB_EPOCHS = 8\n",
        "model = keras_model(BATCHSIZE, SEQLEN)\n",
        "\n",
        "# this prints a description of the model\n",
        "model.summary()\n",
        "\n",
        "display_lr(lr_schedule, NB_EPOCHS)"
      ],
      "execution_count": null,
      "outputs": [
        {
          "output_type": "stream",
          "text": [
            "Model: \"sequential\"\n",
            "_________________________________________________________________\n",
            "Layer (type)                 Output Shape              Param #   \n",
            "=================================================================\n",
            "lambda (Lambda)              (30, 32)                  0         \n",
            "=================================================================\n",
            "Total params: 0\n",
            "Trainable params: 0\n",
            "Non-trainable params: 0\n",
            "_________________________________________________________________\n"
          ],
          "name": "stdout"
        },
        {
          "output_type": "display_data",
          "data": {
            "image/png": "[encoded data removed]",
            "text/plain": [
              "<Figure size 648x360 with 1 Axes>"
            ]
          },
          "metadata": {
            "tags": []
          }
        }
      ]
    },
    {
      "cell_type": "markdown",
      "metadata": {
        "id": "sx7jowlUqhfu",
        "colab_type": "text"
      },
      "source": [
        "You can re-execute this cell to continue training"
      ]
    },
    {
      "cell_type": "code",
      "metadata": {
        "id": "UM0AIbCSfg9V",
        "colab_type": "code",
        "cellView": "both",
        "colab": {}
      },
      "source": [
        "# You can re-execute this cell to continue training\n",
        "\n",
        "steps_per_epoch = (DATA_LEN-1) // SEQLEN // BATCHSIZE\n",
        "#generator = rnn_minibatch_sequencer(data, BATCHSIZE, SEQLEN, NB_EPOCHS)\n",
        "generator = dumb_minibatch_sequencer(data, BATCHSIZE, SEQLEN, NB_EPOCHS)\n",
        "full_history = LossHistory()\n",
        "history = model.fit_generator(generator,\n",
        "                              steps_per_epoch=steps_per_epoch,\n",
        "                              epochs=NB_EPOCHS,\n",
        "                              callbacks=[full_history, lr_decay])"
      ],
      "execution_count": null,
      "outputs": []
    },
    {
      "cell_type": "code",
      "metadata": {
        "id": "u_TxVHXPfg9Y",
        "colab_type": "code",
        "colab": {}
      },
      "source": [
        "display_loss(history.history, full_history.history, NB_EPOCHS)"
      ],
      "execution_count": null,
      "outputs": []
    },
    {
      "cell_type": "markdown",
      "metadata": {
        "id": "xBmt2uUVfg9N",
        "colab_type": "text"
      },
      "source": [
        "## Inference\n",
        "This is a generative model: run one trained RNN cell in a loop"
      ]
    },
    {
      "cell_type": "code",
      "metadata": {
        "id": "UFalPiNOr2pt",
        "colab_type": "code",
        "colab": {}
      },
      "source": [
        "# Inference from stateful model\n",
        "def keras_prediction_run(model, prime_data, run_length):\n",
        "  model.reset_states()\n",
        "  \n",
        "  data_len = prime_data.shape[0]\n",
        "  \n",
        "  #prime_data = np.expand_dims(prime_data, axis=0) # single batch with everything\n",
        "  prime_data = np.expand_dims(prime_data, axis=-1) # each sequence is of size 1\n",
        "  \n",
        "  # prime the state from data\n",
        "  for i in range(data_len - 1): # keep last sample to serve as the input sequence for predictions\n",
        "    model.predict(np.expand_dims(prime_data[i], axis=0))\n",
        "  \n",
        "  # prediction run\n",
        "  results = []\n",
        "  Yout = prime_data[-1] # start predicting from the last element of the prime_data sequence\n",
        "  for i in range(run_length+1):\n",
        "    Yout = model.predict(Yout)\n",
        "    results.append(Yout[0,0]) # Yout shape is [1,1] i.e one sequence of one element\n",
        "\n",
        "  return np.array(results)"
      ],
      "execution_count": null,
      "outputs": []
    },
    {
      "cell_type": "code",
      "metadata": {
        "id": "DBVi1tNofg9a",
        "colab_type": "code",
        "colab": {}
      },
      "source": [
        "PRIMELEN=256\n",
        "RUNLEN=512\n",
        "OFFSET=20\n",
        "RMSELEN=128\n",
        "\n",
        "prime_data = data[OFFSET:OFFSET+PRIMELEN]\n",
        "\n",
        "# For inference, we need a single RNN cell (no unrolling)\n",
        "# Create a new model that takes a single sequence of a single value (i.e. just one RNN cell)\n",
        "inference_model = keras_model(1, 1)\n",
        "# Copy the trained weights into it\n",
        "inference_model.set_weights(model.get_weights())\n",
        "\n",
        "results = keras_prediction_run(inference_model, prime_data, RUNLEN)\n",
        "\n",
        "picture_this_8(data, prime_data, results, OFFSET, PRIMELEN, RUNLEN, RMSELEN)"
      ],
      "execution_count": null,
      "outputs": []
    },
    {
      "cell_type": "markdown",
      "metadata": {
        "id": "AQn6WA-pfg9c",
        "colab_type": "text"
      },
      "source": [
        "Copyright 2019 Google LLC\n",
        "\n",
        "Licensed under the Apache License, Version 2.0 (the \"License\");\n",
        "you may not use this file except in compliance with the License.\n",
        "You may obtain a copy of the License at\n",
        "[http://www.apache.org/licenses/LICENSE-2.0](http://www.apache.org/licenses/LICENSE-2.0)\n",
        "Unless required by applicable law or agreed to in writing, software\n",
        "distributed under the License is distributed on an \"AS IS\" BASIS,\n",
        "WITHOUT WARRANTIES OR CONDITIONS OF ANY KIND, either express or implied.\n",
        "See the License for the specific language governing permissions and\n",
        "limitations under the License."
      ]
    }
  ]
}