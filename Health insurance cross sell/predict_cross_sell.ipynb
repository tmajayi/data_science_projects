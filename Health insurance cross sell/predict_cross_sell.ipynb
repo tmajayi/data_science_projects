{
 "cells": [
  {
   "cell_type": "markdown",
   "metadata": {},
   "source": [
    "## Health Insurance Cross Sell Prediction 🏠 🏥\n",
    "Predict Health Insurance Owners' who will be interested in Vehicle Insurance"
   ]
  },
  {
   "cell_type": "code",
   "execution_count": 1,
   "metadata": {},
   "outputs": [
    {
     "data": {
      "text/html": [
       "<div>\n",
       "<style scoped>\n",
       "    .dataframe tbody tr th:only-of-type {\n",
       "        vertical-align: middle;\n",
       "    }\n",
       "\n",
       "    .dataframe tbody tr th {\n",
       "        vertical-align: top;\n",
       "    }\n",
       "\n",
       "    .dataframe thead th {\n",
       "        text-align: right;\n",
       "    }\n",
       "</style>\n",
       "<table border=\"1\" class=\"dataframe\">\n",
       "  <thead>\n",
       "    <tr style=\"text-align: right;\">\n",
       "      <th></th>\n",
       "      <th>id</th>\n",
       "      <th>Gender</th>\n",
       "      <th>Age</th>\n",
       "      <th>Driving_License</th>\n",
       "      <th>Region_Code</th>\n",
       "      <th>Previously_Insured</th>\n",
       "      <th>Vehicle_Age</th>\n",
       "      <th>Vehicle_Damage</th>\n",
       "      <th>Annual_Premium</th>\n",
       "      <th>Policy_Sales_Channel</th>\n",
       "      <th>Vintage</th>\n",
       "      <th>Response</th>\n",
       "    </tr>\n",
       "  </thead>\n",
       "  <tbody>\n",
       "    <tr>\n",
       "      <th>0</th>\n",
       "      <td>1</td>\n",
       "      <td>Male</td>\n",
       "      <td>44</td>\n",
       "      <td>1</td>\n",
       "      <td>28.0</td>\n",
       "      <td>0</td>\n",
       "      <td>&gt; 2 Years</td>\n",
       "      <td>Yes</td>\n",
       "      <td>40454.0</td>\n",
       "      <td>26.0</td>\n",
       "      <td>217</td>\n",
       "      <td>1</td>\n",
       "    </tr>\n",
       "    <tr>\n",
       "      <th>1</th>\n",
       "      <td>2</td>\n",
       "      <td>Male</td>\n",
       "      <td>76</td>\n",
       "      <td>1</td>\n",
       "      <td>3.0</td>\n",
       "      <td>0</td>\n",
       "      <td>1-2 Year</td>\n",
       "      <td>No</td>\n",
       "      <td>33536.0</td>\n",
       "      <td>26.0</td>\n",
       "      <td>183</td>\n",
       "      <td>0</td>\n",
       "    </tr>\n",
       "    <tr>\n",
       "      <th>2</th>\n",
       "      <td>3</td>\n",
       "      <td>Male</td>\n",
       "      <td>47</td>\n",
       "      <td>1</td>\n",
       "      <td>28.0</td>\n",
       "      <td>0</td>\n",
       "      <td>&gt; 2 Years</td>\n",
       "      <td>Yes</td>\n",
       "      <td>38294.0</td>\n",
       "      <td>26.0</td>\n",
       "      <td>27</td>\n",
       "      <td>1</td>\n",
       "    </tr>\n",
       "    <tr>\n",
       "      <th>3</th>\n",
       "      <td>4</td>\n",
       "      <td>Male</td>\n",
       "      <td>21</td>\n",
       "      <td>1</td>\n",
       "      <td>11.0</td>\n",
       "      <td>1</td>\n",
       "      <td>&lt; 1 Year</td>\n",
       "      <td>No</td>\n",
       "      <td>28619.0</td>\n",
       "      <td>152.0</td>\n",
       "      <td>203</td>\n",
       "      <td>0</td>\n",
       "    </tr>\n",
       "    <tr>\n",
       "      <th>4</th>\n",
       "      <td>5</td>\n",
       "      <td>Female</td>\n",
       "      <td>29</td>\n",
       "      <td>1</td>\n",
       "      <td>41.0</td>\n",
       "      <td>1</td>\n",
       "      <td>&lt; 1 Year</td>\n",
       "      <td>No</td>\n",
       "      <td>27496.0</td>\n",
       "      <td>152.0</td>\n",
       "      <td>39</td>\n",
       "      <td>0</td>\n",
       "    </tr>\n",
       "  </tbody>\n",
       "</table>\n",
       "</div>"
      ],
      "text/plain": [
       "   id  Gender  Age  Driving_License  Region_Code  Previously_Insured  \\\n",
       "0   1    Male   44                1         28.0                   0   \n",
       "1   2    Male   76                1          3.0                   0   \n",
       "2   3    Male   47                1         28.0                   0   \n",
       "3   4    Male   21                1         11.0                   1   \n",
       "4   5  Female   29                1         41.0                   1   \n",
       "\n",
       "  Vehicle_Age Vehicle_Damage  Annual_Premium  Policy_Sales_Channel  Vintage  \\\n",
       "0   > 2 Years            Yes         40454.0                  26.0      217   \n",
       "1    1-2 Year             No         33536.0                  26.0      183   \n",
       "2   > 2 Years            Yes         38294.0                  26.0       27   \n",
       "3    < 1 Year             No         28619.0                 152.0      203   \n",
       "4    < 1 Year             No         27496.0                 152.0       39   \n",
       "\n",
       "   Response  \n",
       "0         1  \n",
       "1         0  \n",
       "2         1  \n",
       "3         0  \n",
       "4         0  "
      ]
     },
     "execution_count": 1,
     "metadata": {},
     "output_type": "execute_result"
    }
   ],
   "source": [
    "import pandas as pd\n",
    "import numpy as np\n",
    "\n",
    "train_df = pd.read_csv('data//train.csv')\n",
    "test_df = pd.read_csv('data//test.csv')\n",
    "\n",
    "train_df.head()"
   ]
  },
  {
   "cell_type": "markdown",
   "metadata": {},
   "source": [
    "### Data Exploration"
   ]
  },
  {
   "cell_type": "code",
   "execution_count": 2,
   "metadata": {},
   "outputs": [
    {
     "name": "stdout",
     "output_type": "stream",
     "text": [
      "<class 'pandas.core.frame.DataFrame'>\n",
      "RangeIndex: 381109 entries, 0 to 381108\n",
      "Data columns (total 12 columns):\n",
      " #   Column                Non-Null Count   Dtype  \n",
      "---  ------                --------------   -----  \n",
      " 0   id                    381109 non-null  int64  \n",
      " 1   Gender                381109 non-null  object \n",
      " 2   Age                   381109 non-null  int64  \n",
      " 3   Driving_License       381109 non-null  int64  \n",
      " 4   Region_Code           381109 non-null  float64\n",
      " 5   Previously_Insured    381109 non-null  int64  \n",
      " 6   Vehicle_Age           381109 non-null  object \n",
      " 7   Vehicle_Damage        381109 non-null  object \n",
      " 8   Annual_Premium        381109 non-null  float64\n",
      " 9   Policy_Sales_Channel  381109 non-null  float64\n",
      " 10  Vintage               381109 non-null  int64  \n",
      " 11  Response              381109 non-null  int64  \n",
      "dtypes: float64(3), int64(6), object(3)\n",
      "memory usage: 34.9+ MB\n"
     ]
    }
   ],
   "source": [
    "train_df.info()"
   ]
  },
  {
   "cell_type": "code",
   "execution_count": 3,
   "metadata": {},
   "outputs": [
    {
     "data": {
      "text/html": [
       "<div>\n",
       "<style scoped>\n",
       "    .dataframe tbody tr th:only-of-type {\n",
       "        vertical-align: middle;\n",
       "    }\n",
       "\n",
       "    .dataframe tbody tr th {\n",
       "        vertical-align: top;\n",
       "    }\n",
       "\n",
       "    .dataframe thead th {\n",
       "        text-align: right;\n",
       "    }\n",
       "</style>\n",
       "<table border=\"1\" class=\"dataframe\">\n",
       "  <thead>\n",
       "    <tr style=\"text-align: right;\">\n",
       "      <th></th>\n",
       "      <th>id</th>\n",
       "      <th>Age</th>\n",
       "      <th>Driving_License</th>\n",
       "      <th>Region_Code</th>\n",
       "      <th>Previously_Insured</th>\n",
       "      <th>Annual_Premium</th>\n",
       "      <th>Policy_Sales_Channel</th>\n",
       "      <th>Vintage</th>\n",
       "      <th>Response</th>\n",
       "    </tr>\n",
       "  </thead>\n",
       "  <tbody>\n",
       "    <tr>\n",
       "      <th>count</th>\n",
       "      <td>381109.000000</td>\n",
       "      <td>381109.000000</td>\n",
       "      <td>381109.000000</td>\n",
       "      <td>381109.000000</td>\n",
       "      <td>381109.000000</td>\n",
       "      <td>381109.000000</td>\n",
       "      <td>381109.000000</td>\n",
       "      <td>381109.000000</td>\n",
       "      <td>381109.000000</td>\n",
       "    </tr>\n",
       "    <tr>\n",
       "      <th>mean</th>\n",
       "      <td>190555.000000</td>\n",
       "      <td>38.822584</td>\n",
       "      <td>0.997869</td>\n",
       "      <td>26.388807</td>\n",
       "      <td>0.458210</td>\n",
       "      <td>30564.389581</td>\n",
       "      <td>112.034295</td>\n",
       "      <td>154.347397</td>\n",
       "      <td>0.122563</td>\n",
       "    </tr>\n",
       "    <tr>\n",
       "      <th>std</th>\n",
       "      <td>110016.836208</td>\n",
       "      <td>15.511611</td>\n",
       "      <td>0.046110</td>\n",
       "      <td>13.229888</td>\n",
       "      <td>0.498251</td>\n",
       "      <td>17213.155057</td>\n",
       "      <td>54.203995</td>\n",
       "      <td>83.671304</td>\n",
       "      <td>0.327936</td>\n",
       "    </tr>\n",
       "    <tr>\n",
       "      <th>min</th>\n",
       "      <td>1.000000</td>\n",
       "      <td>20.000000</td>\n",
       "      <td>0.000000</td>\n",
       "      <td>0.000000</td>\n",
       "      <td>0.000000</td>\n",
       "      <td>2630.000000</td>\n",
       "      <td>1.000000</td>\n",
       "      <td>10.000000</td>\n",
       "      <td>0.000000</td>\n",
       "    </tr>\n",
       "    <tr>\n",
       "      <th>25%</th>\n",
       "      <td>95278.000000</td>\n",
       "      <td>25.000000</td>\n",
       "      <td>1.000000</td>\n",
       "      <td>15.000000</td>\n",
       "      <td>0.000000</td>\n",
       "      <td>24405.000000</td>\n",
       "      <td>29.000000</td>\n",
       "      <td>82.000000</td>\n",
       "      <td>0.000000</td>\n",
       "    </tr>\n",
       "    <tr>\n",
       "      <th>50%</th>\n",
       "      <td>190555.000000</td>\n",
       "      <td>36.000000</td>\n",
       "      <td>1.000000</td>\n",
       "      <td>28.000000</td>\n",
       "      <td>0.000000</td>\n",
       "      <td>31669.000000</td>\n",
       "      <td>133.000000</td>\n",
       "      <td>154.000000</td>\n",
       "      <td>0.000000</td>\n",
       "    </tr>\n",
       "    <tr>\n",
       "      <th>75%</th>\n",
       "      <td>285832.000000</td>\n",
       "      <td>49.000000</td>\n",
       "      <td>1.000000</td>\n",
       "      <td>35.000000</td>\n",
       "      <td>1.000000</td>\n",
       "      <td>39400.000000</td>\n",
       "      <td>152.000000</td>\n",
       "      <td>227.000000</td>\n",
       "      <td>0.000000</td>\n",
       "    </tr>\n",
       "    <tr>\n",
       "      <th>max</th>\n",
       "      <td>381109.000000</td>\n",
       "      <td>85.000000</td>\n",
       "      <td>1.000000</td>\n",
       "      <td>52.000000</td>\n",
       "      <td>1.000000</td>\n",
       "      <td>540165.000000</td>\n",
       "      <td>163.000000</td>\n",
       "      <td>299.000000</td>\n",
       "      <td>1.000000</td>\n",
       "    </tr>\n",
       "  </tbody>\n",
       "</table>\n",
       "</div>"
      ],
      "text/plain": [
       "                  id            Age  Driving_License    Region_Code  \\\n",
       "count  381109.000000  381109.000000    381109.000000  381109.000000   \n",
       "mean   190555.000000      38.822584         0.997869      26.388807   \n",
       "std    110016.836208      15.511611         0.046110      13.229888   \n",
       "min         1.000000      20.000000         0.000000       0.000000   \n",
       "25%     95278.000000      25.000000         1.000000      15.000000   \n",
       "50%    190555.000000      36.000000         1.000000      28.000000   \n",
       "75%    285832.000000      49.000000         1.000000      35.000000   \n",
       "max    381109.000000      85.000000         1.000000      52.000000   \n",
       "\n",
       "       Previously_Insured  Annual_Premium  Policy_Sales_Channel  \\\n",
       "count       381109.000000   381109.000000         381109.000000   \n",
       "mean             0.458210    30564.389581            112.034295   \n",
       "std              0.498251    17213.155057             54.203995   \n",
       "min              0.000000     2630.000000              1.000000   \n",
       "25%              0.000000    24405.000000             29.000000   \n",
       "50%              0.000000    31669.000000            133.000000   \n",
       "75%              1.000000    39400.000000            152.000000   \n",
       "max              1.000000   540165.000000            163.000000   \n",
       "\n",
       "             Vintage       Response  \n",
       "count  381109.000000  381109.000000  \n",
       "mean      154.347397       0.122563  \n",
       "std        83.671304       0.327936  \n",
       "min        10.000000       0.000000  \n",
       "25%        82.000000       0.000000  \n",
       "50%       154.000000       0.000000  \n",
       "75%       227.000000       0.000000  \n",
       "max       299.000000       1.000000  "
      ]
     },
     "execution_count": 3,
     "metadata": {},
     "output_type": "execute_result"
    }
   ],
   "source": [
    "train_df.describe()"
   ]
  },
  {
   "cell_type": "code",
   "execution_count": 27,
   "metadata": {},
   "outputs": [
    {
     "data": {
      "text/plain": [
       "0    334399\n",
       "1     46710\n",
       "Name: Response, dtype: int64"
      ]
     },
     "execution_count": 27,
     "metadata": {},
     "output_type": "execute_result"
    }
   ],
   "source": [
    "train_df['Response'].value_counts()"
   ]
  },
  {
   "cell_type": "markdown",
   "metadata": {},
   "source": [
    "We could see the dataset is highly unbalanced - about 90% 0s. We need to fix this"
   ]
  },
  {
   "cell_type": "markdown",
   "metadata": {},
   "source": [
    "### Data Engineering"
   ]
  },
  {
   "cell_type": "markdown",
   "metadata": {},
   "source": [
    "Resampled skewed data"
   ]
  },
  {
   "cell_type": "code",
   "execution_count": 254,
   "metadata": {},
   "outputs": [],
   "source": [
    "from random import sample\n",
    "from sklearn.utils import shuffle\n",
    "\n",
    "def resample(df):\n",
    "    indices_0 = df.index[df['Response'] == 0].tolist()\n",
    "    indices_1 = df.index[df['Response'] == 1].tolist()\n",
    "    indices_0 =  sample(indices_0, int(len(indices_1)*0.9))\n",
    "    #indices_1 =  sample(indices_1, int(len(indices_1)*0.5))\n",
    "    df_0 = df.iloc[ indices_0]\n",
    "    df_1 = df.iloc[ indices_1]\n",
    "    df_resampled = pd.concat([df_0, df_1], ignore_index=True)\n",
    "    return shuffle(df_resampled, random_state=0)\n",
    "\n",
    "train_df_1 = resample(train_df)"
   ]
  },
  {
   "cell_type": "code",
   "execution_count": 255,
   "metadata": {},
   "outputs": [],
   "source": [
    "age = train_df_1['Age'].values\n",
    "age_range = np.ones(len(age))\n",
    "age_range[(age>30)&(age<=50)] = 2\n",
    "age_range[(age>50)&(age<=70)] = 3\n",
    "age_range[age>70] = 4\n",
    "\n",
    "train_df_1['Age_range'] = age_range"
   ]
  },
  {
   "cell_type": "code",
   "execution_count": 256,
   "metadata": {},
   "outputs": [
    {
     "data": {
      "text/plain": [
       "1    46710\n",
       "0    42039\n",
       "Name: Response, dtype: int64"
      ]
     },
     "execution_count": 256,
     "metadata": {},
     "output_type": "execute_result"
    }
   ],
   "source": [
    "train_df_1['Response'].value_counts()"
   ]
  },
  {
   "cell_type": "code",
   "execution_count": 257,
   "metadata": {},
   "outputs": [
    {
     "data": {
      "text/html": [
       "<div>\n",
       "<style scoped>\n",
       "    .dataframe tbody tr th:only-of-type {\n",
       "        vertical-align: middle;\n",
       "    }\n",
       "\n",
       "    .dataframe tbody tr th {\n",
       "        vertical-align: top;\n",
       "    }\n",
       "\n",
       "    .dataframe thead th {\n",
       "        text-align: right;\n",
       "    }\n",
       "</style>\n",
       "<table border=\"1\" class=\"dataframe\">\n",
       "  <thead>\n",
       "    <tr style=\"text-align: right;\">\n",
       "      <th></th>\n",
       "      <th>id</th>\n",
       "      <th>Age</th>\n",
       "      <th>Driving_License</th>\n",
       "      <th>Region_Code</th>\n",
       "      <th>Previously_Insured</th>\n",
       "      <th>Annual_Premium</th>\n",
       "      <th>Policy_Sales_Channel</th>\n",
       "      <th>Vintage</th>\n",
       "      <th>Response</th>\n",
       "      <th>Gender_Female</th>\n",
       "      <th>Gender_Male</th>\n",
       "      <th>Vehicle_Age_1-2 Year</th>\n",
       "      <th>Vehicle_Age_&lt; 1 Year</th>\n",
       "      <th>Vehicle_Age_&gt; 2 Years</th>\n",
       "      <th>Vehicle_Damage_No</th>\n",
       "      <th>Vehicle_Damage_Yes</th>\n",
       "      <th>Age_range_1.0</th>\n",
       "      <th>Age_range_2.0</th>\n",
       "      <th>Age_range_3.0</th>\n",
       "      <th>Age_range_4.0</th>\n",
       "    </tr>\n",
       "  </thead>\n",
       "  <tbody>\n",
       "    <tr>\n",
       "      <th>57999</th>\n",
       "      <td>130483</td>\n",
       "      <td>33</td>\n",
       "      <td>1</td>\n",
       "      <td>30.0</td>\n",
       "      <td>0</td>\n",
       "      <td>28243.0</td>\n",
       "      <td>124.0</td>\n",
       "      <td>290</td>\n",
       "      <td>1</td>\n",
       "      <td>0</td>\n",
       "      <td>1</td>\n",
       "      <td>0</td>\n",
       "      <td>1</td>\n",
       "      <td>0</td>\n",
       "      <td>0</td>\n",
       "      <td>1</td>\n",
       "      <td>0</td>\n",
       "      <td>1</td>\n",
       "      <td>0</td>\n",
       "      <td>0</td>\n",
       "    </tr>\n",
       "    <tr>\n",
       "      <th>41498</th>\n",
       "      <td>61060</td>\n",
       "      <td>45</td>\n",
       "      <td>1</td>\n",
       "      <td>17.0</td>\n",
       "      <td>0</td>\n",
       "      <td>33611.0</td>\n",
       "      <td>7.0</td>\n",
       "      <td>41</td>\n",
       "      <td>0</td>\n",
       "      <td>0</td>\n",
       "      <td>1</td>\n",
       "      <td>1</td>\n",
       "      <td>0</td>\n",
       "      <td>0</td>\n",
       "      <td>0</td>\n",
       "      <td>1</td>\n",
       "      <td>0</td>\n",
       "      <td>1</td>\n",
       "      <td>0</td>\n",
       "      <td>0</td>\n",
       "    </tr>\n",
       "    <tr>\n",
       "      <th>82988</th>\n",
       "      <td>333172</td>\n",
       "      <td>49</td>\n",
       "      <td>1</td>\n",
       "      <td>35.0</td>\n",
       "      <td>0</td>\n",
       "      <td>26938.0</td>\n",
       "      <td>26.0</td>\n",
       "      <td>194</td>\n",
       "      <td>1</td>\n",
       "      <td>1</td>\n",
       "      <td>0</td>\n",
       "      <td>1</td>\n",
       "      <td>0</td>\n",
       "      <td>0</td>\n",
       "      <td>0</td>\n",
       "      <td>1</td>\n",
       "      <td>0</td>\n",
       "      <td>1</td>\n",
       "      <td>0</td>\n",
       "      <td>0</td>\n",
       "    </tr>\n",
       "    <tr>\n",
       "      <th>86417</th>\n",
       "      <td>361389</td>\n",
       "      <td>51</td>\n",
       "      <td>1</td>\n",
       "      <td>28.0</td>\n",
       "      <td>0</td>\n",
       "      <td>34104.0</td>\n",
       "      <td>122.0</td>\n",
       "      <td>246</td>\n",
       "      <td>1</td>\n",
       "      <td>0</td>\n",
       "      <td>1</td>\n",
       "      <td>1</td>\n",
       "      <td>0</td>\n",
       "      <td>0</td>\n",
       "      <td>0</td>\n",
       "      <td>1</td>\n",
       "      <td>0</td>\n",
       "      <td>0</td>\n",
       "      <td>1</td>\n",
       "      <td>0</td>\n",
       "    </tr>\n",
       "    <tr>\n",
       "      <th>20658</th>\n",
       "      <td>344891</td>\n",
       "      <td>20</td>\n",
       "      <td>1</td>\n",
       "      <td>8.0</td>\n",
       "      <td>0</td>\n",
       "      <td>35019.0</td>\n",
       "      <td>160.0</td>\n",
       "      <td>226</td>\n",
       "      <td>0</td>\n",
       "      <td>0</td>\n",
       "      <td>1</td>\n",
       "      <td>0</td>\n",
       "      <td>1</td>\n",
       "      <td>0</td>\n",
       "      <td>0</td>\n",
       "      <td>1</td>\n",
       "      <td>1</td>\n",
       "      <td>0</td>\n",
       "      <td>0</td>\n",
       "      <td>0</td>\n",
       "    </tr>\n",
       "  </tbody>\n",
       "</table>\n",
       "</div>"
      ],
      "text/plain": [
       "           id  Age  Driving_License  Region_Code  Previously_Insured  \\\n",
       "57999  130483   33                1         30.0                   0   \n",
       "41498   61060   45                1         17.0                   0   \n",
       "82988  333172   49                1         35.0                   0   \n",
       "86417  361389   51                1         28.0                   0   \n",
       "20658  344891   20                1          8.0                   0   \n",
       "\n",
       "       Annual_Premium  Policy_Sales_Channel  Vintage  Response  Gender_Female  \\\n",
       "57999         28243.0                 124.0      290         1              0   \n",
       "41498         33611.0                   7.0       41         0              0   \n",
       "82988         26938.0                  26.0      194         1              1   \n",
       "86417         34104.0                 122.0      246         1              0   \n",
       "20658         35019.0                 160.0      226         0              0   \n",
       "\n",
       "       Gender_Male  Vehicle_Age_1-2 Year  Vehicle_Age_< 1 Year  \\\n",
       "57999            1                     0                     1   \n",
       "41498            1                     1                     0   \n",
       "82988            0                     1                     0   \n",
       "86417            1                     1                     0   \n",
       "20658            1                     0                     1   \n",
       "\n",
       "       Vehicle_Age_> 2 Years  Vehicle_Damage_No  Vehicle_Damage_Yes  \\\n",
       "57999                      0                  0                   1   \n",
       "41498                      0                  0                   1   \n",
       "82988                      0                  0                   1   \n",
       "86417                      0                  0                   1   \n",
       "20658                      0                  0                   1   \n",
       "\n",
       "       Age_range_1.0  Age_range_2.0  Age_range_3.0  Age_range_4.0  \n",
       "57999              0              1              0              0  \n",
       "41498              0              1              0              0  \n",
       "82988              0              1              0              0  \n",
       "86417              0              0              1              0  \n",
       "20658              1              0              0              0  "
      ]
     },
     "execution_count": 257,
     "metadata": {},
     "output_type": "execute_result"
    }
   ],
   "source": [
    "train_df_2 = pd.get_dummies(train_df_1, columns=['Gender','Vehicle_Age','Vehicle_Damage','Age_range'])\n",
    "test_df_1 = pd.get_dummies(test_df, columns=['Gender','Vehicle_Age','Vehicle_Damage'])\n",
    "train_df_2.head()"
   ]
  },
  {
   "cell_type": "code",
   "execution_count": 258,
   "metadata": {},
   "outputs": [],
   "source": [
    "from sklearn.model_selection import train_test_split\n",
    "\n",
    "X = train_df_2.drop(['id','Age','Response'],axis=1)\n",
    "y = train_df_2['Response'].values\n",
    "X_train, X_val, y_train, y_val = train_test_split(X, y, test_size=0.5, random_state=10)\n",
    "X_test = test_df_1.drop(['id','Age'],axis=1)"
   ]
  },
  {
   "cell_type": "markdown",
   "metadata": {},
   "source": [
    "### Modeling"
   ]
  },
  {
   "cell_type": "code",
   "execution_count": 276,
   "metadata": {},
   "outputs": [],
   "source": [
    "from sklearn.preprocessing import MinMaxScaler\n",
    "from xgboost import XGBClassifier\n",
    "from sklearn.pipeline import Pipeline\n",
    "from sklearn.metrics import mean_squared_error, roc_auc_score\n",
    "\n",
    "scaler = MinMaxScaler()\n",
    "xgc = XGBClassifier(n_estimators=200, learning_rate=0.08, \n",
    "                    reg_lambda = 1, reg_alpha = 1, \n",
    "                    gamma=0.3, max_depth=6, eval_metric = 'auc')\n",
    "pipeline = Pipeline(steps=[('Scale',scaler),('Classifier',xgc)])\n",
    "model = pipeline.fit(X_train,y_train)"
   ]
  },
  {
   "cell_type": "code",
   "execution_count": 271,
   "metadata": {},
   "outputs": [
    {
     "data": {
      "text/plain": [
       "0.8180691395862442"
      ]
     },
     "execution_count": 271,
     "metadata": {},
     "output_type": "execute_result"
    }
   ],
   "source": [
    "model.score(X_train,y_train)"
   ]
  },
  {
   "cell_type": "code",
   "execution_count": 272,
   "metadata": {},
   "outputs": [
    {
     "data": {
      "text/plain": [
       "0.8065802816901408"
      ]
     },
     "execution_count": 272,
     "metadata": {},
     "output_type": "execute_result"
    }
   ],
   "source": [
    "model.score(X_val,y_val)"
   ]
  },
  {
   "cell_type": "code",
   "execution_count": 262,
   "metadata": {},
   "outputs": [],
   "source": [
    "def metric(y_true,y_pred):\n",
    "    \n",
    "    indices_tp = np.where(y_true==1)\n",
    "    predict_1 = y_pred[indices_tp]\n",
    "    tp = sum(predict_1==1)\n",
    "    fn = sum(predict_1==0)\n",
    "    \n",
    "    indices_tn = np.where(y_true==0)\n",
    "    predict_0 = y_pred[indices_tn]\n",
    "    tn = sum(predict_0==0)\n",
    "    fp = sum(predict_0==1)\n",
    "    \n",
    "    print('Summary:')\n",
    "    print('-------')\n",
    "    print('%3.2f percent of Yes predicted correctly'%(tp/len(predict_1)*100))\n",
    "    print('%3.2f percent of Yes misclassified as No'%(fn/len(predict_1)*100))\n",
    "    print('%3.2f percent of No predicted correctly'%(tn/len(predict_0)*100))\n",
    "    print('%3.2f percent of No misclassified as Yes'%(fp/len(predict_0)*100))\n",
    "    print('Acc. -- %3.2f percent'%((tp+tn)/(tp+tn+fn+fp)*100))\n",
    "    print('F1 score -- %2.2f'%(2*tp/(2*tp+fn+fp)))"
   ]
  },
  {
   "cell_type": "code",
   "execution_count": 273,
   "metadata": {},
   "outputs": [
    {
     "name": "stdout",
     "output_type": "stream",
     "text": [
      "Summary:\n",
      "-------\n",
      "93.72 percent of Yes predicted correctly\n",
      "6.28 percent of Yes misclassified as No\n",
      "66.00 percent of No predicted correctly\n",
      "34.00 percent of No misclassified as Yes\n",
      "Acc. -- 80.66 percent\n",
      "F1 score -- 0.84\n"
     ]
    }
   ],
   "source": [
    "y_pred = model.predict(X_val)\n",
    "metric(y_val,y_pred)"
   ]
  },
  {
   "cell_type": "code",
   "execution_count": 274,
   "metadata": {},
   "outputs": [
    {
     "data": {
      "text/plain": [
       "0.7985697313724809"
      ]
     },
     "execution_count": 274,
     "metadata": {},
     "output_type": "execute_result"
    }
   ],
   "source": [
    "roc_auc_score(y_val,y_pred)"
   ]
  },
  {
   "cell_type": "markdown",
   "metadata": {},
   "source": [
    "### DNN Model"
   ]
  },
  {
   "cell_type": "code",
   "execution_count": 180,
   "metadata": {},
   "outputs": [],
   "source": [
    "X_in = scaler.fit_transform(X_train)\n",
    "X_try = scaler.fit_transform(X_val)"
   ]
  },
  {
   "cell_type": "code",
   "execution_count": 181,
   "metadata": {},
   "outputs": [
    {
     "name": "stdout",
     "output_type": "stream",
     "text": [
      "Epoch 1/20\n",
      "468/468 [==============================] - 4s 9ms/step - loss: 0.4475 - accuracy: 0.7816 - val_loss: 0.4417 - val_accuracy: 0.7877\n",
      "Epoch 2/20\n",
      "468/468 [==============================] - 4s 8ms/step - loss: 0.4402 - accuracy: 0.7849 - val_loss: 0.4401 - val_accuracy: 0.7881\n",
      "Epoch 3/20\n",
      "468/468 [==============================] - 4s 8ms/step - loss: 0.4391 - accuracy: 0.7840 - val_loss: 0.4351 - val_accuracy: 0.7865\n",
      "Epoch 4/20\n",
      "468/468 [==============================] - 4s 8ms/step - loss: 0.4388 - accuracy: 0.7848 - val_loss: 0.4380 - val_accuracy: 0.7844\n",
      "Epoch 5/20\n",
      "468/468 [==============================] - 3s 6ms/step - loss: 0.4382 - accuracy: 0.7855 - val_loss: 0.4358 - val_accuracy: 0.7908\n",
      "Epoch 6/20\n",
      "468/468 [==============================] - 4s 8ms/step - loss: 0.4375 - accuracy: 0.7864 - val_loss: 0.4368 - val_accuracy: 0.7922\n",
      "Epoch 7/20\n",
      "468/468 [==============================] - 5s 10ms/step - loss: 0.4376 - accuracy: 0.7861 - val_loss: 0.4351 - val_accuracy: 0.7917\n",
      "Epoch 8/20\n",
      "468/468 [==============================] - 4s 8ms/step - loss: 0.4377 - accuracy: 0.7859 - val_loss: 0.4355 - val_accuracy: 0.7908\n",
      "Epoch 9/20\n",
      "468/468 [==============================] - 3s 6ms/step - loss: 0.4376 - accuracy: 0.7875 - val_loss: 0.4367 - val_accuracy: 0.7878\n",
      "Epoch 10/20\n",
      "468/468 [==============================] - 4s 8ms/step - loss: 0.4367 - accuracy: 0.7876 - val_loss: 0.4348 - val_accuracy: 0.7923\n",
      "Epoch 11/20\n",
      "468/468 [==============================] - 3s 7ms/step - loss: 0.4368 - accuracy: 0.7858 - val_loss: 0.4377 - val_accuracy: 0.7914\n",
      "Epoch 12/20\n",
      "468/468 [==============================] - 4s 8ms/step - loss: 0.4364 - accuracy: 0.7880 - val_loss: 0.4371 - val_accuracy: 0.7914\n",
      "Epoch 13/20\n",
      "468/468 [==============================] - 3s 7ms/step - loss: 0.4364 - accuracy: 0.7874 - val_loss: 0.4385 - val_accuracy: 0.7914\n",
      "Epoch 14/20\n",
      "468/468 [==============================] - 4s 9ms/step - loss: 0.4365 - accuracy: 0.7870 - val_loss: 0.4364 - val_accuracy: 0.7871\n",
      "Epoch 15/20\n",
      "468/468 [==============================] - 4s 8ms/step - loss: 0.4363 - accuracy: 0.7869 - val_loss: 0.4357 - val_accuracy: 0.7906\n",
      "Epoch 16/20\n",
      "468/468 [==============================] - 3s 6ms/step - loss: 0.4357 - accuracy: 0.7873 - val_loss: 0.4358 - val_accuracy: 0.7917\n",
      "Epoch 17/20\n",
      "468/468 [==============================] - 4s 8ms/step - loss: 0.4360 - accuracy: 0.7889 - val_loss: 0.4401 - val_accuracy: 0.7854\n",
      "Epoch 18/20\n",
      "468/468 [==============================] - 3s 6ms/step - loss: 0.4356 - accuracy: 0.7881 - val_loss: 0.4350 - val_accuracy: 0.7897\n",
      "Epoch 19/20\n",
      "468/468 [==============================] - 4s 9ms/step - loss: 0.4361 - accuracy: 0.7881 - val_loss: 0.4340 - val_accuracy: 0.7919\n",
      "Epoch 20/20\n",
      "468/468 [==============================] - 4s 9ms/step - loss: 0.4358 - accuracy: 0.7882 - val_loss: 0.4345 - val_accuracy: 0.7901\n"
     ]
    },
    {
     "data": {
      "text/plain": [
       "<tensorflow.python.keras.callbacks.History at 0x24ee85bed30>"
      ]
     },
     "execution_count": 181,
     "metadata": {},
     "output_type": "execute_result"
    }
   ],
   "source": [
    "from tensorflow.keras.models import Sequential\n",
    "from tensorflow.keras.layers import Dense, Dropout\n",
    "from tensorflow.keras.optimizers import Adam, RMSprop\n",
    "\n",
    "model = Sequential()\n",
    "model.add(Dense(200, input_shape=(X_train.shape[1],), activation='relu')) \n",
    "model.add(Dense(100, activation = 'relu'))\n",
    "model.add(Dropout(0.4))\n",
    "model.add(Dense(1, activation='sigmoid'))\n",
    "model.compile(loss='binary_crossentropy', optimizer=RMSprop(lr=0.001), metrics=['accuracy'])\n",
    "model.fit(X_in,y_train, batch_size=100, \n",
    "          validation_data= (X_try, y_val),\n",
    "          epochs=20, verbose=1)"
   ]
  },
  {
   "cell_type": "code",
   "execution_count": null,
   "metadata": {},
   "outputs": [],
   "source": []
  }
 ],
 "metadata": {
  "kernelspec": {
   "display_name": "Python 3",
   "language": "python",
   "name": "python3"
  },
  "language_info": {
   "codemirror_mode": {
    "name": "ipython",
    "version": 3
   },
   "file_extension": ".py",
   "mimetype": "text/x-python",
   "name": "python",
   "nbconvert_exporter": "python",
   "pygments_lexer": "ipython3",
   "version": "3.6.5"
  }
 },
 "nbformat": 4,
 "nbformat_minor": 4
}
