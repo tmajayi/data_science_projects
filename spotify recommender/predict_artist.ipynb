{
 "cells": [
  {
   "cell_type": "markdown",
   "metadata": {},
   "source": [
    "# Recommend artists\n",
    "Build a content-based recommendation engine which suggests artists"
   ]
  },
  {
   "cell_type": "code",
   "execution_count": 43,
   "metadata": {},
   "outputs": [
    {
     "data": {
      "text/html": [
       "<div>\n",
       "<style scoped>\n",
       "    .dataframe tbody tr th:only-of-type {\n",
       "        vertical-align: middle;\n",
       "    }\n",
       "\n",
       "    .dataframe tbody tr th {\n",
       "        vertical-align: top;\n",
       "    }\n",
       "\n",
       "    .dataframe thead th {\n",
       "        text-align: right;\n",
       "    }\n",
       "</style>\n",
       "<table border=\"1\" class=\"dataframe\">\n",
       "  <thead>\n",
       "    <tr style=\"text-align: right;\">\n",
       "      <th></th>\n",
       "      <th>artists</th>\n",
       "      <th>acousticness</th>\n",
       "      <th>danceability</th>\n",
       "      <th>duration_ms</th>\n",
       "      <th>energy</th>\n",
       "      <th>instrumentalness</th>\n",
       "      <th>liveness</th>\n",
       "      <th>loudness</th>\n",
       "      <th>speechiness</th>\n",
       "      <th>tempo</th>\n",
       "      <th>valence</th>\n",
       "      <th>popularity</th>\n",
       "      <th>key</th>\n",
       "      <th>mode</th>\n",
       "      <th>count</th>\n",
       "    </tr>\n",
       "  </thead>\n",
       "  <tbody>\n",
       "    <tr>\n",
       "      <th>0</th>\n",
       "      <td>Francisco Canaro</td>\n",
       "      <td>0.983072</td>\n",
       "      <td>0.654711</td>\n",
       "      <td>177776.513454</td>\n",
       "      <td>0.292622</td>\n",
       "      <td>0.490675</td>\n",
       "      <td>0.201118</td>\n",
       "      <td>-11.733373</td>\n",
       "      <td>0.111007</td>\n",
       "      <td>123.608786</td>\n",
       "      <td>0.746469</td>\n",
       "      <td>0.054257</td>\n",
       "      <td>2</td>\n",
       "      <td>1</td>\n",
       "      <td>2267</td>\n",
       "    </tr>\n",
       "    <tr>\n",
       "      <th>1</th>\n",
       "      <td>Frédéric Chopin</td>\n",
       "      <td>0.989961</td>\n",
       "      <td>0.340087</td>\n",
       "      <td>251871.948502</td>\n",
       "      <td>0.106874</td>\n",
       "      <td>0.876899</td>\n",
       "      <td>0.155677</td>\n",
       "      <td>-22.575578</td>\n",
       "      <td>0.042913</td>\n",
       "      <td>90.977772</td>\n",
       "      <td>0.203644</td>\n",
       "      <td>5.748127</td>\n",
       "      <td>1</td>\n",
       "      <td>1</td>\n",
       "      <td>1068</td>\n",
       "    </tr>\n",
       "    <tr>\n",
       "      <th>2</th>\n",
       "      <td>Ludwig van Beethoven</td>\n",
       "      <td>0.955019</td>\n",
       "      <td>0.340157</td>\n",
       "      <td>439361.331606</td>\n",
       "      <td>0.153176</td>\n",
       "      <td>0.690770</td>\n",
       "      <td>0.164078</td>\n",
       "      <td>-20.107704</td>\n",
       "      <td>0.055550</td>\n",
       "      <td>104.833536</td>\n",
       "      <td>0.260255</td>\n",
       "      <td>5.237306</td>\n",
       "      <td>0</td>\n",
       "      <td>1</td>\n",
       "      <td>965</td>\n",
       "    </tr>\n",
       "    <tr>\n",
       "      <th>3</th>\n",
       "      <td>Wolfgang Amadeus Mozart</td>\n",
       "      <td>0.962084</td>\n",
       "      <td>0.353895</td>\n",
       "      <td>327808.037306</td>\n",
       "      <td>0.138348</td>\n",
       "      <td>0.514837</td>\n",
       "      <td>0.187091</td>\n",
       "      <td>-20.214154</td>\n",
       "      <td>0.067756</td>\n",
       "      <td>108.594920</td>\n",
       "      <td>0.332855</td>\n",
       "      <td>9.624870</td>\n",
       "      <td>7</td>\n",
       "      <td>1</td>\n",
       "      <td>965</td>\n",
       "    </tr>\n",
       "    <tr>\n",
       "      <th>4</th>\n",
       "      <td>Johann Sebastian Bach</td>\n",
       "      <td>0.958405</td>\n",
       "      <td>0.354224</td>\n",
       "      <td>203461.757872</td>\n",
       "      <td>0.201932</td>\n",
       "      <td>0.744322</td>\n",
       "      <td>0.165837</td>\n",
       "      <td>-20.936518</td>\n",
       "      <td>0.048844</td>\n",
       "      <td>106.551869</td>\n",
       "      <td>0.570526</td>\n",
       "      <td>14.704669</td>\n",
       "      <td>7</td>\n",
       "      <td>1</td>\n",
       "      <td>921</td>\n",
       "    </tr>\n",
       "  </tbody>\n",
       "</table>\n",
       "</div>"
      ],
      "text/plain": [
       "                   artists  acousticness  danceability    duration_ms  \\\n",
       "0         Francisco Canaro      0.983072      0.654711  177776.513454   \n",
       "1          Frédéric Chopin      0.989961      0.340087  251871.948502   \n",
       "2     Ludwig van Beethoven      0.955019      0.340157  439361.331606   \n",
       "3  Wolfgang Amadeus Mozart      0.962084      0.353895  327808.037306   \n",
       "4    Johann Sebastian Bach      0.958405      0.354224  203461.757872   \n",
       "\n",
       "     energy  instrumentalness  liveness   loudness  speechiness       tempo  \\\n",
       "0  0.292622          0.490675  0.201118 -11.733373     0.111007  123.608786   \n",
       "1  0.106874          0.876899  0.155677 -22.575578     0.042913   90.977772   \n",
       "2  0.153176          0.690770  0.164078 -20.107704     0.055550  104.833536   \n",
       "3  0.138348          0.514837  0.187091 -20.214154     0.067756  108.594920   \n",
       "4  0.201932          0.744322  0.165837 -20.936518     0.048844  106.551869   \n",
       "\n",
       "    valence  popularity  key  mode  count  \n",
       "0  0.746469    0.054257    2     1   2267  \n",
       "1  0.203644    5.748127    1     1   1068  \n",
       "2  0.260255    5.237306    0     1    965  \n",
       "3  0.332855    9.624870    7     1    965  \n",
       "4  0.570526   14.704669    7     1    921  "
      ]
     },
     "execution_count": 43,
     "metadata": {},
     "output_type": "execute_result"
    }
   ],
   "source": [
    "import pandas as pd\n",
    "import numpy as np\n",
    "\n",
    "data = pd.read_csv('data\\data_by_artist.csv')\n",
    "data.head()"
   ]
  },
  {
   "cell_type": "markdown",
   "metadata": {},
   "source": [
    "drop columns not useful"
   ]
  },
  {
   "cell_type": "code",
   "execution_count": 44,
   "metadata": {},
   "outputs": [
    {
     "data": {
      "text/html": [
       "<div>\n",
       "<style scoped>\n",
       "    .dataframe tbody tr th:only-of-type {\n",
       "        vertical-align: middle;\n",
       "    }\n",
       "\n",
       "    .dataframe tbody tr th {\n",
       "        vertical-align: top;\n",
       "    }\n",
       "\n",
       "    .dataframe thead th {\n",
       "        text-align: right;\n",
       "    }\n",
       "</style>\n",
       "<table border=\"1\" class=\"dataframe\">\n",
       "  <thead>\n",
       "    <tr style=\"text-align: right;\">\n",
       "      <th></th>\n",
       "      <th>acousticness</th>\n",
       "      <th>danceability</th>\n",
       "      <th>energy</th>\n",
       "      <th>instrumentalness</th>\n",
       "      <th>liveness</th>\n",
       "      <th>loudness</th>\n",
       "      <th>speechiness</th>\n",
       "      <th>tempo</th>\n",
       "      <th>valence</th>\n",
       "      <th>popularity</th>\n",
       "    </tr>\n",
       "  </thead>\n",
       "  <tbody>\n",
       "    <tr>\n",
       "      <th>count</th>\n",
       "      <td>27606.000000</td>\n",
       "      <td>27606.000000</td>\n",
       "      <td>27606.000000</td>\n",
       "      <td>27606.000000</td>\n",
       "      <td>27606.000000</td>\n",
       "      <td>27606.000000</td>\n",
       "      <td>27606.000000</td>\n",
       "      <td>27606.000000</td>\n",
       "      <td>27606.000000</td>\n",
       "      <td>27606.000000</td>\n",
       "    </tr>\n",
       "    <tr>\n",
       "      <th>mean</th>\n",
       "      <td>0.511213</td>\n",
       "      <td>0.540540</td>\n",
       "      <td>0.489070</td>\n",
       "      <td>0.171924</td>\n",
       "      <td>0.203372</td>\n",
       "      <td>-11.342185</td>\n",
       "      <td>0.094928</td>\n",
       "      <td>115.405597</td>\n",
       "      <td>0.512366</td>\n",
       "      <td>34.211749</td>\n",
       "    </tr>\n",
       "    <tr>\n",
       "      <th>std</th>\n",
       "      <td>0.369982</td>\n",
       "      <td>0.176387</td>\n",
       "      <td>0.254124</td>\n",
       "      <td>0.296770</td>\n",
       "      <td>0.140081</td>\n",
       "      <td>5.897531</td>\n",
       "      <td>0.113778</td>\n",
       "      <td>25.177440</td>\n",
       "      <td>0.244332</td>\n",
       "      <td>22.026644</td>\n",
       "    </tr>\n",
       "    <tr>\n",
       "      <th>min</th>\n",
       "      <td>0.000000</td>\n",
       "      <td>0.000000</td>\n",
       "      <td>0.000000</td>\n",
       "      <td>0.000000</td>\n",
       "      <td>0.000000</td>\n",
       "      <td>-60.000000</td>\n",
       "      <td>0.000000</td>\n",
       "      <td>0.000000</td>\n",
       "      <td>0.000000</td>\n",
       "      <td>0.000000</td>\n",
       "    </tr>\n",
       "    <tr>\n",
       "      <th>25%</th>\n",
       "      <td>0.133185</td>\n",
       "      <td>0.424693</td>\n",
       "      <td>0.277000</td>\n",
       "      <td>0.000004</td>\n",
       "      <td>0.111333</td>\n",
       "      <td>-14.235000</td>\n",
       "      <td>0.039402</td>\n",
       "      <td>98.636917</td>\n",
       "      <td>0.329013</td>\n",
       "      <td>13.500000</td>\n",
       "    </tr>\n",
       "    <tr>\n",
       "      <th>50%</th>\n",
       "      <td>0.507000</td>\n",
       "      <td>0.552000</td>\n",
       "      <td>0.494000</td>\n",
       "      <td>0.001869</td>\n",
       "      <td>0.163000</td>\n",
       "      <td>-10.262017</td>\n",
       "      <td>0.052167</td>\n",
       "      <td>114.936204</td>\n",
       "      <td>0.524000</td>\n",
       "      <td>39.000000</td>\n",
       "    </tr>\n",
       "    <tr>\n",
       "      <th>75%</th>\n",
       "      <td>0.906106</td>\n",
       "      <td>0.669000</td>\n",
       "      <td>0.695000</td>\n",
       "      <td>0.205225</td>\n",
       "      <td>0.247000</td>\n",
       "      <td>-6.960013</td>\n",
       "      <td>0.095800</td>\n",
       "      <td>129.861625</td>\n",
       "      <td>0.702000</td>\n",
       "      <td>51.000000</td>\n",
       "    </tr>\n",
       "    <tr>\n",
       "      <th>max</th>\n",
       "      <td>0.996000</td>\n",
       "      <td>0.986000</td>\n",
       "      <td>1.000000</td>\n",
       "      <td>1.000000</td>\n",
       "      <td>0.991000</td>\n",
       "      <td>1.342000</td>\n",
       "      <td>0.964000</td>\n",
       "      <td>217.743000</td>\n",
       "      <td>0.999000</td>\n",
       "      <td>97.000000</td>\n",
       "    </tr>\n",
       "  </tbody>\n",
       "</table>\n",
       "</div>"
      ],
      "text/plain": [
       "       acousticness  danceability        energy  instrumentalness  \\\n",
       "count  27606.000000  27606.000000  27606.000000      27606.000000   \n",
       "mean       0.511213      0.540540      0.489070          0.171924   \n",
       "std        0.369982      0.176387      0.254124          0.296770   \n",
       "min        0.000000      0.000000      0.000000          0.000000   \n",
       "25%        0.133185      0.424693      0.277000          0.000004   \n",
       "50%        0.507000      0.552000      0.494000          0.001869   \n",
       "75%        0.906106      0.669000      0.695000          0.205225   \n",
       "max        0.996000      0.986000      1.000000          1.000000   \n",
       "\n",
       "           liveness      loudness   speechiness         tempo       valence  \\\n",
       "count  27606.000000  27606.000000  27606.000000  27606.000000  27606.000000   \n",
       "mean       0.203372    -11.342185      0.094928    115.405597      0.512366   \n",
       "std        0.140081      5.897531      0.113778     25.177440      0.244332   \n",
       "min        0.000000    -60.000000      0.000000      0.000000      0.000000   \n",
       "25%        0.111333    -14.235000      0.039402     98.636917      0.329013   \n",
       "50%        0.163000    -10.262017      0.052167    114.936204      0.524000   \n",
       "75%        0.247000     -6.960013      0.095800    129.861625      0.702000   \n",
       "max        0.991000      1.342000      0.964000    217.743000      0.999000   \n",
       "\n",
       "         popularity  \n",
       "count  27606.000000  \n",
       "mean      34.211749  \n",
       "std       22.026644  \n",
       "min        0.000000  \n",
       "25%       13.500000  \n",
       "50%       39.000000  \n",
       "75%       51.000000  \n",
       "max       97.000000  "
      ]
     },
     "execution_count": 44,
     "metadata": {},
     "output_type": "execute_result"
    }
   ],
   "source": [
    "df = data.drop(['artists', 'duration_ms', 'key', 'mode', 'count'],axis=1)\n",
    "df.describe()"
   ]
  },
  {
   "cell_type": "markdown",
   "metadata": {},
   "source": [
    "check for nulls"
   ]
  },
  {
   "cell_type": "code",
   "execution_count": 45,
   "metadata": {},
   "outputs": [
    {
     "name": "stdout",
     "output_type": "stream",
     "text": [
      "<class 'pandas.core.frame.DataFrame'>\n",
      "RangeIndex: 27606 entries, 0 to 27605\n",
      "Data columns (total 10 columns):\n",
      " #   Column            Non-Null Count  Dtype  \n",
      "---  ------            --------------  -----  \n",
      " 0   acousticness      27606 non-null  float64\n",
      " 1   danceability      27606 non-null  float64\n",
      " 2   energy            27606 non-null  float64\n",
      " 3   instrumentalness  27606 non-null  float64\n",
      " 4   liveness          27606 non-null  float64\n",
      " 5   loudness          27606 non-null  float64\n",
      " 6   speechiness       27606 non-null  float64\n",
      " 7   tempo             27606 non-null  float64\n",
      " 8   valence           27606 non-null  float64\n",
      " 9   popularity        27606 non-null  float64\n",
      "dtypes: float64(10)\n",
      "memory usage: 2.1 MB\n"
     ]
    }
   ],
   "source": [
    "df.info()"
   ]
  },
  {
   "cell_type": "markdown",
   "metadata": {},
   "source": [
    "Let's normalize"
   ]
  },
  {
   "cell_type": "code",
   "execution_count": 55,
   "metadata": {},
   "outputs": [
    {
     "data": {
      "text/plain": [
       "(27606, 10)"
      ]
     },
     "execution_count": 55,
     "metadata": {},
     "output_type": "execute_result"
    }
   ],
   "source": [
    "from sklearn.preprocessing import MinMaxScaler\n",
    "\n",
    "feat_matrix= MinMaxScaler().fit_transform(df)\n",
    "feat_matrix.shape"
   ]
  },
  {
   "cell_type": "markdown",
   "metadata": {},
   "source": [
    "Build a user profile"
   ]
  },
  {
   "cell_type": "code",
   "execution_count": 167,
   "metadata": {},
   "outputs": [
    {
     "data": {
      "text/plain": [
       "[('Snoop Dogg', 2),\n",
       " ('Nate Dogg', 9),\n",
       " ('Xzibit', 8),\n",
       " ('50 Cent', 9),\n",
       " ('Solomon Burke', 9),\n",
       " ('Carl Anderson', 5),\n",
       " ('Koka Kambon', 6)]"
      ]
     },
     "execution_count": 167,
     "metadata": {},
     "output_type": "execute_result"
    }
   ],
   "source": [
    "#artists_list = data['artists'].sample(n=10, random_state=5).values\n",
    "artists_list = np.array(['Snoop Dogg','Nate Dogg','Xzibit','50 Cent','Solomon Burke','Carl Anderson','Koka Kambon'])\n",
    "ratings = np.random.randint(2,11,size=len(artists_list))  # randomly generate ratings for artists (1-10)\n",
    "user_x = list(zip(artists_list,ratings))\n",
    "user_x"
   ]
  },
  {
   "cell_type": "markdown",
   "metadata": {},
   "source": [
    "Convert user profile to features matrix using only top-rated artists"
   ]
  },
  {
   "cell_type": "code",
   "execution_count": 189,
   "metadata": {},
   "outputs": [
    {
     "data": {
      "text/plain": [
       "(5, 10)"
      ]
     },
     "execution_count": 189,
     "metadata": {},
     "output_type": "execute_result"
    }
   ],
   "source": [
    "art,rat = list(zip(*user_x)) # unzip user profile\n",
    "ratings = np.array(rat)\n",
    "artists = np.array(art)\n",
    "artists_liked = artists_list[np.where(ratings > 5)]   # select artists rated 6 minimum\n",
    "vals = data.index[data['artists'].isin(artists_liked)].tolist()\n",
    "\n",
    "X = feat_matrix[vals,:]\n",
    "X.shape"
   ]
  },
  {
   "cell_type": "code",
   "execution_count": 190,
   "metadata": {},
   "outputs": [
    {
     "data": {
      "text/plain": [
       "array(['Snoop Dogg', 'Xzibit', '50 Cent', 'Carl Anderson', 'Koka Kambon'],\n",
       "      dtype='<U13')"
      ]
     },
     "execution_count": 190,
     "metadata": {},
     "output_type": "execute_result"
    }
   ],
   "source": [
    "artists_liked"
   ]
  },
  {
   "cell_type": "markdown",
   "metadata": {},
   "source": [
    "Find similar artists using minimum distance between song features"
   ]
  },
  {
   "cell_type": "code",
   "execution_count": 188,
   "metadata": {},
   "outputs": [
    {
     "name": "stdout",
     "output_type": "stream",
     "text": [
      "               Artist\n",
      "0              Defari\n",
      "1         Lloyd Banks\n",
      "2      Shirley Bassey\n",
      "3               Diddy\n",
      "4         Gene Miller\n",
      "5                 D12\n",
      "6              Kurupt\n",
      "7       The Time Bomb\n",
      "8   Buckshot LeFonque\n",
      "9             Lil Jon\n",
      "10         Margie Day\n",
      "11             Xzibit\n",
      "12        Teresa Teng\n",
      "13          Nate Dogg\n",
      "14         Lil' Cease\n",
      "15            50 Cent\n",
      "16               2Pac\n",
      "17            Ja Rule\n",
      "18          Brooklynn\n",
      "19           Lil' Kim\n",
      "20                Nas\n",
      "21              JAY-Z\n"
     ]
    }
   ],
   "source": [
    "m,n = X.shape\n",
    "recommendations = []\n",
    "for i in range(m): \n",
    "    artist = artists_liked[i]\n",
    "    dist = np.linalg.norm(feat_matrix - X[i], axis=1)\n",
    "    index_array = np.argsort(dist)\n",
    "    recomm = data.artists.iloc[index_array[:5]].tolist()\n",
    "    if artist in recomm:                  \n",
    "        del recomm[recomm.index(artist)]\n",
    "    #print('Recommendations for', artist)\n",
    "    #print(pd.DataFrame(recomm, columns=['Artist']))\n",
    "    #print('')\n",
    "    recommendations = list(set().union(recommendations,recomm))\n",
    "print(pd.DataFrame(recommendations, columns=['Artist']))"
   ]
  },
  {
   "cell_type": "code",
   "execution_count": 145,
   "metadata": {},
   "outputs": [
    {
     "data": {
      "text/plain": [
       "3"
      ]
     },
     "execution_count": 145,
     "metadata": {},
     "output_type": "execute_result"
    }
   ],
   "source": [
    "recomm.index('Brooklynn')"
   ]
  },
  {
   "cell_type": "code",
   "execution_count": 197,
   "metadata": {},
   "outputs": [],
   "source": [
    "from sklearn.feature_extraction.text import TfidfVectorizer\n",
    "dat_genre = pd.read_csv('data\\data_w_genres.csv')\n",
    "genres = TfidfVectorizer(max_df=0.7, min_df = 1).fit_transform(dat_genre['genres'])"
   ]
  },
  {
   "cell_type": "code",
   "execution_count": 199,
   "metadata": {},
   "outputs": [],
   "source": [
    "indx = dat_genre['artists'].index[dat_genre['artists'].isin(artists_liked)].tolist()\n",
    "user_genre = genres[indx,:]"
   ]
  },
  {
   "cell_type": "code",
   "execution_count": 204,
   "metadata": {},
   "outputs": [
    {
     "ename": "ValueError",
     "evalue": "inconsistent shapes",
     "output_type": "error",
     "traceback": [
      "\u001b[1;31m---------------------------------------------------------------------------\u001b[0m",
      "\u001b[1;31mValueError\u001b[0m                                Traceback (most recent call last)",
      "\u001b[1;32m<ipython-input-204-499ff09434d1>\u001b[0m in \u001b[0;36m<module>\u001b[1;34m\u001b[0m\n\u001b[0;32m      6\u001b[0m \u001b[1;32mfor\u001b[0m \u001b[0mi\u001b[0m \u001b[1;32min\u001b[0m \u001b[0mrange\u001b[0m\u001b[1;33m(\u001b[0m\u001b[0mm\u001b[0m\u001b[1;33m)\u001b[0m\u001b[1;33m:\u001b[0m\u001b[1;33m\u001b[0m\u001b[0m\n\u001b[0;32m      7\u001b[0m     \u001b[0martist\u001b[0m \u001b[1;33m=\u001b[0m \u001b[0martists_liked\u001b[0m\u001b[1;33m[\u001b[0m\u001b[0mi\u001b[0m\u001b[1;33m]\u001b[0m\u001b[1;33m\u001b[0m\u001b[0m\n\u001b[1;32m----> 8\u001b[1;33m     \u001b[0mdist\u001b[0m \u001b[1;33m=\u001b[0m \u001b[0mnp\u001b[0m\u001b[1;33m.\u001b[0m\u001b[0mlinalg\u001b[0m\u001b[1;33m.\u001b[0m\u001b[0mnorm\u001b[0m\u001b[1;33m(\u001b[0m\u001b[0mgenres\u001b[0m \u001b[1;33m-\u001b[0m \u001b[0muser_genre\u001b[0m\u001b[1;33m[\u001b[0m\u001b[0mi\u001b[0m\u001b[1;33m]\u001b[0m\u001b[1;33m,\u001b[0m \u001b[0maxis\u001b[0m\u001b[1;33m=\u001b[0m\u001b[1;36m1\u001b[0m\u001b[1;33m)\u001b[0m\u001b[1;33m\u001b[0m\u001b[0m\n\u001b[0m\u001b[0;32m      9\u001b[0m     \u001b[0mindex_array\u001b[0m \u001b[1;33m=\u001b[0m \u001b[0mnp\u001b[0m\u001b[1;33m.\u001b[0m\u001b[0margsort\u001b[0m\u001b[1;33m(\u001b[0m\u001b[0mdist\u001b[0m\u001b[1;33m)\u001b[0m\u001b[1;33m\u001b[0m\u001b[0m\n\u001b[0;32m     10\u001b[0m     \u001b[0mrecomm\u001b[0m \u001b[1;33m=\u001b[0m \u001b[0mdat_genre\u001b[0m\u001b[1;33m.\u001b[0m\u001b[0martists\u001b[0m\u001b[1;33m.\u001b[0m\u001b[0miloc\u001b[0m\u001b[1;33m[\u001b[0m\u001b[0mindex_array\u001b[0m\u001b[1;33m[\u001b[0m\u001b[1;33m:\u001b[0m\u001b[1;36m5\u001b[0m\u001b[1;33m]\u001b[0m\u001b[1;33m]\u001b[0m\u001b[1;33m.\u001b[0m\u001b[0mtolist\u001b[0m\u001b[1;33m(\u001b[0m\u001b[1;33m)\u001b[0m\u001b[1;33m\u001b[0m\u001b[0m\n",
      "\u001b[1;32m~\\Anaconda3\\lib\\site-packages\\scipy\\sparse\\base.py\u001b[0m in \u001b[0;36m__sub__\u001b[1;34m(self, other)\u001b[0m\n\u001b[0;32m    435\u001b[0m         \u001b[1;32melif\u001b[0m \u001b[0misspmatrix\u001b[0m\u001b[1;33m(\u001b[0m\u001b[0mother\u001b[0m\u001b[1;33m)\u001b[0m\u001b[1;33m:\u001b[0m\u001b[1;33m\u001b[0m\u001b[0m\n\u001b[0;32m    436\u001b[0m             \u001b[1;32mif\u001b[0m \u001b[0mother\u001b[0m\u001b[1;33m.\u001b[0m\u001b[0mshape\u001b[0m \u001b[1;33m!=\u001b[0m \u001b[0mself\u001b[0m\u001b[1;33m.\u001b[0m\u001b[0mshape\u001b[0m\u001b[1;33m:\u001b[0m\u001b[1;33m\u001b[0m\u001b[0m\n\u001b[1;32m--> 437\u001b[1;33m                 \u001b[1;32mraise\u001b[0m \u001b[0mValueError\u001b[0m\u001b[1;33m(\u001b[0m\u001b[1;34m\"inconsistent shapes\"\u001b[0m\u001b[1;33m)\u001b[0m\u001b[1;33m\u001b[0m\u001b[0m\n\u001b[0m\u001b[0;32m    438\u001b[0m             \u001b[1;32mreturn\u001b[0m \u001b[0mself\u001b[0m\u001b[1;33m.\u001b[0m\u001b[0m_sub_sparse\u001b[0m\u001b[1;33m(\u001b[0m\u001b[0mother\u001b[0m\u001b[1;33m)\u001b[0m\u001b[1;33m\u001b[0m\u001b[0m\n\u001b[0;32m    439\u001b[0m         \u001b[1;32melif\u001b[0m \u001b[0misdense\u001b[0m\u001b[1;33m(\u001b[0m\u001b[0mother\u001b[0m\u001b[1;33m)\u001b[0m\u001b[1;33m:\u001b[0m\u001b[1;33m\u001b[0m\u001b[0m\n",
      "\u001b[1;31mValueError\u001b[0m: inconsistent shapes"
     ]
    }
   ],
   "source": [
    "from sklearn.metrics.pairwise import linear_kernel\n",
    "\n",
    "similar = linear_kernel(user_genre, genres)\n",
    "indices = similar.argsort()\n",
    "\n",
    "for i in range(m):\n",
    "    artist = artists_liked[i]\n",
    "    dist = np.linalg.norm(genres - user_genre[i], axis=1)\n",
    "    index_array = np.argsort(dist)\n",
    "    recomm = dat_genre.artists.iloc[index_array[:5]].tolist()\n",
    "    print(pd.DataFrame(recomm, columns=['title']))\n",
    "    print('')"
   ]
  },
  {
   "cell_type": "code",
   "execution_count": 207,
   "metadata": {},
   "outputs": [
    {
     "data": {
      "text/plain": [
       "[<1x1503 sparse matrix of type '<class 'numpy.float64'>'\n",
       " \twith 7 stored elements in Compressed Sparse Row format>,\n",
       " <1x1503 sparse matrix of type '<class 'numpy.float64'>'\n",
       " \twith 8 stored elements in Compressed Sparse Row format>,\n",
       " <1x1503 sparse matrix of type '<class 'numpy.float64'>'\n",
       " \twith 10 stored elements in Compressed Sparse Row format>,\n",
       " <1x1503 sparse matrix of type '<class 'numpy.float64'>'\n",
       " \twith 0 stored elements in Compressed Sparse Row format>,\n",
       " <1x1503 sparse matrix of type '<class 'numpy.float64'>'\n",
       " \twith 0 stored elements in Compressed Sparse Row format>]"
      ]
     },
     "execution_count": 207,
     "metadata": {},
     "output_type": "execute_result"
    }
   ],
   "source": [
    "list(user_genre)"
   ]
  },
  {
   "cell_type": "code",
   "execution_count": null,
   "metadata": {},
   "outputs": [],
   "source": []
  }
 ],
 "metadata": {
  "kernelspec": {
   "display_name": "Python 3",
   "language": "python",
   "name": "python3"
  },
  "language_info": {
   "codemirror_mode": {
    "name": "ipython",
    "version": 3
   },
   "file_extension": ".py",
   "mimetype": "text/x-python",
   "name": "python",
   "nbconvert_exporter": "python",
   "pygments_lexer": "ipython3",
   "version": "3.6.5"
  }
 },
 "nbformat": 4,
 "nbformat_minor": 4
}
